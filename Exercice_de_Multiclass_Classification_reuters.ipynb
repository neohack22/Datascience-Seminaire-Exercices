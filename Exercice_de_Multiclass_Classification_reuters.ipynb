{
  "nbformat": 4,
  "nbformat_minor": 0,
  "metadata": {
    "colab": {
      "provenance": [],
      "include_colab_link": true
    },
    "kernelspec": {
      "name": "python3",
      "display_name": "Python 3"
    }
  },
  "cells": [
    {
      "cell_type": "markdown",
      "metadata": {
        "id": "view-in-github",
        "colab_type": "text"
      },
      "source": [
        "<a href=\"https://colab.research.google.com/github/neohack22/Datascience-Seminaire-Exercices/blob/main/Exercice_de_Multiclass_Classification_reuters.ipynb\" target=\"_parent\"><img src=\"https://colab.research.google.com/assets/colab-badge.svg\" alt=\"Open In Colab\"/></a>"
      ]
    },
    {
      "cell_type": "markdown",
      "source": [
        "## Chargement du jeu de données Reuters"
      ],
      "metadata": {
        "id": "V0tTfxBaw6ec"
      }
    },
    {
      "cell_type": "markdown",
      "metadata": {
        "id": "sAOtk4qstSTN"
      },
      "source": [
        "# Train a small dense network on the Reuters data"
      ]
    },
    {
      "cell_type": "markdown",
      "metadata": {
        "id": "NqhOmZZqtt3e"
      },
      "source": [
        "### define a vectorizer"
      ]
    },
    {
      "cell_type": "markdown",
      "metadata": {
        "id": "0T06MT0bwh6d"
      },
      "source": [
        "### import numpy"
      ]
    },
    {
      "cell_type": "markdown",
      "source": [
        "Importez NumPy en tant que 'np'."
      ],
      "metadata": {
        "id": "VhsBMTOC4Kvm"
      }
    },
    {
      "cell_type": "code",
      "source": [],
      "metadata": {
        "id": "aDkZl06r4YD1"
      },
      "execution_count": null,
      "outputs": []
    },
    {
      "cell_type": "markdown",
      "metadata": {
        "id": "nmQyNoYLEXx3"
      },
      "source": [
        "# Multiclass Classification 1.1"
      ]
    },
    {
      "cell_type": "markdown",
      "metadata": {
        "id": "xwf34iwvEToR"
      },
      "source": [
        "Vous allez travailler avec le jeu de données Reuters, un ensemble de dépêches courtes et leurs sujets, publié par Reuters en 1986. C'est un jeu de données simple et largement utilisé pour la classification de texte.\n",
        "\n",
        "Il y a 46 sujets différents ; certains sujets sont plus représentés que d'autres, mais chaque sujet a au moins 10 exemples dans l'ensemble d'entraînement."
      ]
    },
    {
      "cell_type": "markdown",
      "source": [
        "Cette code charge le jeu de données Reuters, qui est une collection d'articles de presse classés en différentes rubriques. Il est souvent utilisé pour les tâches de classification de texte."
      ],
      "metadata": {
        "id": "eXVEP4V2xFhf"
      }
    },
    {
      "cell_type": "markdown",
      "source": [
        "Importez 'reuters' depuis 'keras.datasets'."
      ],
      "metadata": {
        "id": "DNWHqauG4Tis"
      }
    },
    {
      "cell_type": "code",
      "source": [],
      "metadata": {
        "id": "KDMDnuvn4XbL"
      },
      "execution_count": null,
      "outputs": []
    },
    {
      "cell_type": "code",
      "metadata": {
        "id": "7PNet4sCEg1H",
        "colab": {
          "base_uri": "https://localhost:8080/"
        },
        "outputId": "b1be7d9e-38f7-49b3-afa9-ac50325961b2"
      },
      "source": [
        "(train_data, train_labels), (test_data, test_labels) = reuters.load_data(num_words=10000)"
      ],
      "execution_count": null,
      "outputs": [
        {
          "output_type": "stream",
          "name": "stdout",
          "text": [
            "Downloading data from https://storage.googleapis.com/tensorflow/tf-keras-datasets/reuters.npz\n",
            "\u001b[1m2110848/2110848\u001b[0m \u001b[32m━━━━━━━━━━━━━━━━━━━━\u001b[0m\u001b[37m\u001b[0m \u001b[1m1s\u001b[0m 0us/step\n"
          ]
        }
      ]
    },
    {
      "cell_type": "markdown",
      "metadata": {
        "id": "Sgm165n9EyR-"
      },
      "source": [
        "## Train a small dense network on the Reuters data"
      ]
    },
    {
      "cell_type": "markdown",
      "metadata": {
        "id": "j9GZE9CFE18m"
      },
      "source": [
        "### Encoding the data"
      ]
    },
    {
      "cell_type": "markdown",
      "metadata": {
        "id": "Kw4FTfphFYqm"
      },
      "source": [
        "#### def vectorize_sequences"
      ]
    },
    {
      "cell_type": "markdown",
      "source": [
        "Cette fonction transforme des séquences de mots en vecteurs numériques où chaque élément du vecteur indique la présence (1) ou l'absence (0) d'un mot spécifique dans la séquence. Cette représentation vectorielle est essentielle pour que le réseau neuronal puisse traiter les données textuelles."
      ],
      "metadata": {
        "id": "20uah1wrynJI"
      }
    },
    {
      "cell_type": "markdown",
      "source": [
        "L'objectif est de transformer une liste de séquences (dans ce cas, des articles de presse représentés par des séquences de nombres) en une représentation vectorielle, utilisable par un réseau neuronal."
      ],
      "metadata": {
        "id": "qIlLGqFOxjV9"
      }
    },
    {
      "cell_type": "code",
      "metadata": {
        "id": "iQ9OcL4PF8_R"
      },
      "source": [
        "def vectorize_sequences(sequences, dimension=10000):\n",
        "  results = np.zeros((len(sequences), dimension))\n",
        "  for i, sequence in enumerate(sequences):\n",
        "    results[i, sequence] = 1\n",
        "  return results"
      ],
      "execution_count": null,
      "outputs": []
    },
    {
      "cell_type": "markdown",
      "source": [
        "`num_words=10000`: Cet argument spécifie que nous voulons uniquement conserver les 10 000 mots les plus fréquents du jeu de données. Les mots moins fréquents seront ignorés. Cela est fait pour réduire la complexité des données."
      ],
      "metadata": {
        "id": "L2zGhuYxxLzj"
      }
    },
    {
      "cell_type": "markdown",
      "source": [
        "* On crée une matrice remplie de zéros à l'aide de la fonction np.zeros.\n",
        "* enumerate permet d'obtenir à la fois l'index (i) et la valeur (sequence) de chaque élément de la liste.\n",
        "* `results[i, sequence] = 1:` est le cœur de la vectorisation. Pour chaque mot présent dans la sequence courante, on met à 1 la valeur correspondante dans la ligne i de la matrice results.\n",
        "En d'autres termes, si le mot d'index 54 est présent dans la séquence, on mettra `results[i, 54]` à 1."
      ],
      "metadata": {
        "id": "Fnnps_-9x2m3"
      }
    },
    {
      "cell_type": "markdown",
      "metadata": {
        "id": "gSXj2wXhF8uv"
      },
      "source": [
        "#### Encoding the data 1.0"
      ]
    },
    {
      "cell_type": "markdown",
      "source": [
        "Veuillez importer la fonction 'to_categorical' depuis 'tensorflow.keras.utils'. Ensuite, appliquez cette fonction à 'train_labels' et 'test_labels' pour créer respectivement 'one_hot_train_labels' et 'one_hot_test_labels'."
      ],
      "metadata": {
        "id": "wytt-1GK4wpa"
      }
    },
    {
      "cell_type": "code",
      "source": [],
      "metadata": {
        "id": "Kf4aLFW94zRQ"
      },
      "execution_count": null,
      "outputs": []
    },
    {
      "cell_type": "markdown",
      "source": [
        "**Qu'est-ce que le \"one-hot encoding\" ?**\n",
        "\n",
        "Imaginez que vous avez 4 catégories : \"sport\", \"finance\", \"technologie\", \"santé\". Au lieu de représenter ces catégories par des nombres (1, 2, 3, 4), le \"one-hot encoding\" les représente par des vecteurs binaires :\n",
        "\n",
        "- \"sport\" : [1, 0, 0, 0]\n",
        "- \"finance\" : [0, 1, 0, 0]\n",
        "- \"technologie\" : [0, 0, 1, 0]\n",
        "- \"santé\" : [0, 0, 0, 1]\n",
        "\n",
        "Chaque vecteur a un seul \"1\" à la position correspondant à la catégorie et des \"0\" partout ailleurs.\n",
        "\n",
        "**Pourquoi utiliser le \"one-hot encoding\" ?**\n",
        "\n",
        "Les réseaux neuronaux fonctionnent mieux avec des données numériques. Le \"one-hot encoding\" permet de représenter des catégories de manière numérique sans imposer un ordre artificiel entre elles (contrairement à l'utilisation de simples nombres). Cela évite de biaiser l'apprentissage du réseau neuronal.\n",
        "\n",
        "En résumé, ce code prépare les étiquettes de catégories des données d'entraînement et de test pour qu'elles puissent être utilisées efficacement par un réseau neuronal pour la classification de texte."
      ],
      "metadata": {
        "id": "CEcT2iNMzVKh"
      }
    },
    {
      "cell_type": "markdown",
      "metadata": {
        "id": "h9pfvXBOG3H-"
      },
      "source": [
        "### Defining the network"
      ]
    },
    {
      "cell_type": "markdown",
      "metadata": {
        "id": "-vxwex0LHF6v"
      },
      "source": [
        "### Defining the network 1.1"
      ]
    },
    {
      "cell_type": "markdown",
      "source": [
        "Importez 'models' et 'layers' depuis 'keras'."
      ],
      "metadata": {
        "id": "9WptzVsP47in"
      }
    },
    {
      "cell_type": "code",
      "metadata": {
        "id": "NqvIEguCG597"
      },
      "source": [],
      "execution_count": null,
      "outputs": []
    },
    {
      "cell_type": "markdown",
      "source": [
        "Veuillez créer un modèle séquentiel nommé 'model'. Ajoutez-y successivement trois couches Dense :\n",
        "\n",
        "1. Une première couche avec 64 unités, une fonction d'activation 'relu', et une forme d'entrée de (10000,).\n",
        "2. Une deuxième couche avec 64 unités et une fonction d'activation 'relu'.\n",
        "3. Une troisième couche avec 46 unités et une fonction d'activation 'softmax'"
      ],
      "metadata": {
        "id": "qrGmBmsn5IdO"
      }
    },
    {
      "cell_type": "code",
      "metadata": {
        "id": "Ry8mgrmWHWGf",
        "colab": {
          "base_uri": "https://localhost:8080/"
        },
        "outputId": "d62cdfe9-5903-4b47-a878-6f49f2b0f8a7"
      },
      "source": [],
      "execution_count": null,
      "outputs": [
        {
          "output_type": "stream",
          "name": "stderr",
          "text": [
            "/usr/local/lib/python3.11/dist-packages/keras/src/layers/core/dense.py:87: UserWarning: Do not pass an `input_shape`/`input_dim` argument to a layer. When using Sequential models, prefer using an `Input(shape)` object as the first layer in the model instead.\n",
            "  super().__init__(activity_regularizer=activity_regularizer, **kwargs)\n"
          ]
        }
      ]
    },
    {
      "cell_type": "markdown",
      "metadata": {
        "id": "EJUqSUvkH0UH"
      },
      "source": [
        "### Defining the optimizer and the loss"
      ]
    },
    {
      "cell_type": "markdown",
      "source": [
        "Veuillez compiler le modèle en utilisant l'optimiseur 'rmsprop', la fonction de perte 'categorical_crossentropy', et la métrique 'accuracy'."
      ],
      "metadata": {
        "id": "0qHTHW3B5SIr"
      }
    },
    {
      "cell_type": "code",
      "metadata": {
        "id": "kmQJJnKyHwVs"
      },
      "source": [],
      "execution_count": null,
      "outputs": []
    },
    {
      "cell_type": "markdown",
      "metadata": {
        "id": "f04gKZhzILXX"
      },
      "source": [
        "### Defining a validation set"
      ]
    },
    {
      "cell_type": "markdown",
      "metadata": {
        "id": "n5PG18w8Iz8c"
      },
      "source": [
        "### Encoding the data 1.1"
      ]
    },
    {
      "cell_type": "markdown",
      "metadata": {
        "id": "ZQKbOdfxJZ2Z"
      },
      "source": [
        "### Encoding the data 1.2"
      ]
    },
    {
      "cell_type": "markdown",
      "source": [
        "Veuillez appliquer la fonction 'vectorize_sequences' aux données d'entraînement ('train_data') et aux données de test ('test_data') pour créer respectivement les variables 'x_train' et 'x_test'."
      ],
      "metadata": {
        "id": "HGAjVwyb5ql5"
      }
    },
    {
      "cell_type": "code",
      "metadata": {
        "id": "QW39-AKgJTRy"
      },
      "source": [],
      "execution_count": null,
      "outputs": []
    },
    {
      "cell_type": "markdown",
      "metadata": {
        "id": "MddimZ4CJyTC"
      },
      "source": [
        "### Defining a validation set 1.1"
      ]
    },
    {
      "cell_type": "markdown",
      "source": [
        "Veuillez créer un ensemble de validation en utilisant les 1000 premières données de 'x_train' et 'one_hot_train_labels' et nommez-les respectivement 'x_val' et 'y_val'. Créez également des ensembles d'entraînement partiels en utilisant les données restantes de 'x_train' et 'one_hot_train_labels' et nommez-les respectivement 'partial_x_train' et 'partial_y_train'."
      ],
      "metadata": {
        "id": "eEjqV5Gh5v0U"
      }
    },
    {
      "cell_type": "code",
      "metadata": {
        "id": "CrPlM13YJnqe"
      },
      "source": [],
      "execution_count": null,
      "outputs": []
    },
    {
      "cell_type": "markdown",
      "metadata": {
        "id": "PAzc_ezsKMWX"
      },
      "source": [
        "### Training with a validation set"
      ]
    },
    {
      "cell_type": "markdown",
      "source": [
        "Veuillez entraîner le modèle en utilisant 'partial_x_train' et 'partial_y_train' comme données d'entraînement, 'x_val' et 'y_val' comme données de validation, pendant 20 epochs avec une taille de batch de 512. Stockez l'historique d'entraînement dans une variable nommée 'history'."
      ],
      "metadata": {
        "id": "zQ05lZTr55La"
      }
    },
    {
      "cell_type": "code",
      "metadata": {
        "id": "Uwt9cTIkKJrx",
        "outputId": "00a0edb2-2894-4112-c130-c61b014680ea",
        "colab": {
          "base_uri": "https://localhost:8080/"
        }
      },
      "source": [],
      "execution_count": null,
      "outputs": [
        {
          "output_type": "stream",
          "name": "stdout",
          "text": [
            "Epoch 1/20\n",
            "\u001b[1m16/16\u001b[0m \u001b[32m━━━━━━━━━━━━━━━━━━━━\u001b[0m\u001b[37m\u001b[0m \u001b[1m2s\u001b[0m 79ms/step - accuracy: 0.4029 - loss: 3.1492 - val_accuracy: 0.2490 - val_loss: 2.9056\n",
            "Epoch 2/20\n",
            "\u001b[1m16/16\u001b[0m \u001b[32m━━━━━━━━━━━━━━━━━━━━\u001b[0m\u001b[37m\u001b[0m \u001b[1m1s\u001b[0m 59ms/step - accuracy: 0.6589 - loss: 1.6297 - val_accuracy: 0.2210 - val_loss: 3.3919\n",
            "Epoch 3/20\n",
            "\u001b[1m16/16\u001b[0m \u001b[32m━━━━━━━━━━━━━━━━━━━━\u001b[0m\u001b[37m\u001b[0m \u001b[1m2s\u001b[0m 91ms/step - accuracy: 0.7319 - loss: 1.2221 - val_accuracy: 0.2160 - val_loss: 3.7410\n",
            "Epoch 4/20\n",
            "\u001b[1m16/16\u001b[0m \u001b[32m━━━━━━━━━━━━━━━━━━━━\u001b[0m\u001b[37m\u001b[0m \u001b[1m1s\u001b[0m 66ms/step - accuracy: 0.7843 - loss: 0.9940 - val_accuracy: 0.2080 - val_loss: 4.0409\n",
            "Epoch 5/20\n",
            "\u001b[1m16/16\u001b[0m \u001b[32m━━━━━━━━━━━━━━━━━━━━\u001b[0m\u001b[37m\u001b[0m \u001b[1m1s\u001b[0m 52ms/step - accuracy: 0.8166 - loss: 0.8516 - val_accuracy: 0.1970 - val_loss: 4.2565\n",
            "Epoch 6/20\n",
            "\u001b[1m16/16\u001b[0m \u001b[32m━━━━━━━━━━━━━━━━━━━━\u001b[0m\u001b[37m\u001b[0m \u001b[1m1s\u001b[0m 53ms/step - accuracy: 0.8470 - loss: 0.7157 - val_accuracy: 0.2000 - val_loss: 4.4836\n",
            "Epoch 7/20\n",
            "\u001b[1m16/16\u001b[0m \u001b[32m━━━━━━━━━━━━━━━━━━━━\u001b[0m\u001b[37m\u001b[0m \u001b[1m1s\u001b[0m 48ms/step - accuracy: 0.8744 - loss: 0.5914 - val_accuracy: 0.2020 - val_loss: 4.5962\n",
            "Epoch 8/20\n",
            "\u001b[1m16/16\u001b[0m \u001b[32m━━━━━━━━━━━━━━━━━━━━\u001b[0m\u001b[37m\u001b[0m \u001b[1m1s\u001b[0m 53ms/step - accuracy: 0.8977 - loss: 0.4861 - val_accuracy: 0.2040 - val_loss: 4.8160\n",
            "Epoch 9/20\n",
            "\u001b[1m16/16\u001b[0m \u001b[32m━━━━━━━━━━━━━━━━━━━━\u001b[0m\u001b[37m\u001b[0m \u001b[1m1s\u001b[0m 51ms/step - accuracy: 0.9110 - loss: 0.4229 - val_accuracy: 0.1970 - val_loss: 5.0458\n",
            "Epoch 10/20\n",
            "\u001b[1m16/16\u001b[0m \u001b[32m━━━━━━━━━━━━━━━━━━━━\u001b[0m\u001b[37m\u001b[0m \u001b[1m1s\u001b[0m 48ms/step - accuracy: 0.9228 - loss: 0.3497 - val_accuracy: 0.2000 - val_loss: 5.2660\n",
            "Epoch 11/20\n",
            "\u001b[1m16/16\u001b[0m \u001b[32m━━━━━━━━━━━━━━━━━━━━\u001b[0m\u001b[37m\u001b[0m \u001b[1m1s\u001b[0m 52ms/step - accuracy: 0.9344 - loss: 0.3062 - val_accuracy: 0.1940 - val_loss: 5.5503\n",
            "Epoch 12/20\n",
            "\u001b[1m16/16\u001b[0m \u001b[32m━━━━━━━━━━━━━━━━━━━━\u001b[0m\u001b[37m\u001b[0m \u001b[1m1s\u001b[0m 48ms/step - accuracy: 0.9383 - loss: 0.2766 - val_accuracy: 0.1960 - val_loss: 5.6221\n",
            "Epoch 13/20\n",
            "\u001b[1m16/16\u001b[0m \u001b[32m━━━━━━━━━━━━━━━━━━━━\u001b[0m\u001b[37m\u001b[0m \u001b[1m2s\u001b[0m 77ms/step - accuracy: 0.9455 - loss: 0.2338 - val_accuracy: 0.2060 - val_loss: 5.6749\n",
            "Epoch 14/20\n",
            "\u001b[1m16/16\u001b[0m \u001b[32m━━━━━━━━━━━━━━━━━━━━\u001b[0m\u001b[37m\u001b[0m \u001b[1m3s\u001b[0m 186ms/step - accuracy: 0.9502 - loss: 0.1997 - val_accuracy: 0.2020 - val_loss: 5.8588\n",
            "Epoch 15/20\n",
            "\u001b[1m16/16\u001b[0m \u001b[32m━━━━━━━━━━━━━━━━━━━━\u001b[0m\u001b[37m\u001b[0m \u001b[1m2s\u001b[0m 100ms/step - accuracy: 0.9540 - loss: 0.1847 - val_accuracy: 0.1920 - val_loss: 6.1538\n",
            "Epoch 16/20\n",
            "\u001b[1m16/16\u001b[0m \u001b[32m━━━━━━━━━━━━━━━━━━━━\u001b[0m\u001b[37m\u001b[0m \u001b[1m2s\u001b[0m 57ms/step - accuracy: 0.9564 - loss: 0.1691 - val_accuracy: 0.1980 - val_loss: 6.3649\n",
            "Epoch 17/20\n",
            "\u001b[1m16/16\u001b[0m \u001b[32m━━━━━━━━━━━━━━━━━━━━\u001b[0m\u001b[37m\u001b[0m \u001b[1m1s\u001b[0m 48ms/step - accuracy: 0.9622 - loss: 0.1495 - val_accuracy: 0.2000 - val_loss: 6.2820\n",
            "Epoch 18/20\n",
            "\u001b[1m16/16\u001b[0m \u001b[32m━━━━━━━━━━━━━━━━━━━━\u001b[0m\u001b[37m\u001b[0m \u001b[1m1s\u001b[0m 53ms/step - accuracy: 0.9604 - loss: 0.1426 - val_accuracy: 0.1960 - val_loss: 6.4988\n",
            "Epoch 19/20\n",
            "\u001b[1m16/16\u001b[0m \u001b[32m━━━━━━━━━━━━━━━━━━━━\u001b[0m\u001b[37m\u001b[0m \u001b[1m1s\u001b[0m 51ms/step - accuracy: 0.9597 - loss: 0.1359 - val_accuracy: 0.1990 - val_loss: 6.5236\n",
            "Epoch 20/20\n",
            "\u001b[1m16/16\u001b[0m \u001b[32m━━━━━━━━━━━━━━━━━━━━\u001b[0m\u001b[37m\u001b[0m \u001b[1m1s\u001b[0m 49ms/step - accuracy: 0.9618 - loss: 0.1269 - val_accuracy: 0.1960 - val_loss: 6.6026\n"
          ]
        }
      ]
    },
    {
      "cell_type": "markdown",
      "metadata": {
        "id": "HRvhJ2o_Klun"
      },
      "source": [
        "### Visualize the training"
      ]
    },
    {
      "cell_type": "markdown",
      "source": [
        "Veuillez visualiser l'historique d'entraînement en utilisant Matplotlib. Tracez un graphique affichant la perte d'entraînement et la perte de validation en fonction des epochs. Nommez le graphique 'Training and validation loss', étiquetez l'axe des x 'Epochs', l'axe des y 'Loss', et ajoutez une légende pour identifier les courbes."
      ],
      "metadata": {
        "id": "uXUTQFi_6C1R"
      }
    },
    {
      "cell_type": "code",
      "metadata": {
        "id": "dY89dZmxLX6A",
        "outputId": "71caaac5-f27b-45b3-fff4-a16af23034fb",
        "colab": {
          "base_uri": "https://localhost:8080/",
          "height": 472
        }
      },
      "source": [],
      "execution_count": null,
      "outputs": [
        {
          "output_type": "display_data",
          "data": {
            "text/plain": [
              "<Figure size 640x480 with 1 Axes>"
            ],
            "image/png": "[encoded data removed]"
          },
          "metadata": {}
        }
      ]
    },
    {
      "cell_type": "markdown",
      "metadata": {
        "id": "XNHVB8FVMqdG"
      },
      "source": [
        "### Further experiments"
      ]
    },
    {
      "cell_type": "markdown",
      "metadata": {
        "id": "0KAg2oVmMsQp"
      },
      "source": [
        "#### Train on less epochs"
      ]
    },
    {
      "cell_type": "markdown",
      "source": [
        "Veuillez entraîner le modèle en utilisant 'partial_x_train' et 'partial_y_train' comme données d'entraînement, 'x_val' et 'y_val' comme données de validation, pendant 2 epochs avec une taille de batch de 512. Stockez l'historique d'entraînement dans une variable nommée 'history_1'."
      ],
      "metadata": {
        "id": "qPqAe4gU6PIu"
      }
    },
    {
      "cell_type": "code",
      "metadata": {
        "id": "LZ_x8RuJMmAj",
        "outputId": "025a47b7-f193-495a-c5db-9d11af8a5f42",
        "colab": {
          "base_uri": "https://localhost:8080/"
        }
      },
      "source": [],
      "execution_count": null,
      "outputs": [
        {
          "output_type": "stream",
          "name": "stdout",
          "text": [
            "Epoch 1/2\n",
            "\u001b[1m16/16\u001b[0m \u001b[32m━━━━━━━━━━━━━━━━━━━━\u001b[0m\u001b[37m\u001b[0m \u001b[1m1s\u001b[0m 64ms/step - accuracy: 0.9564 - loss: 0.1248 - val_accuracy: 0.1990 - val_loss: 6.9918\n",
            "Epoch 2/2\n",
            "\u001b[1m16/16\u001b[0m \u001b[32m━━━━━━━━━━━━━━━━━━━━\u001b[0m\u001b[37m\u001b[0m \u001b[1m2s\u001b[0m 90ms/step - accuracy: 0.9604 - loss: 0.1193 - val_accuracy: 0.1980 - val_loss: 6.8762\n"
          ]
        }
      ]
    },
    {
      "cell_type": "markdown",
      "metadata": {
        "id": "fJ719NgVPhVY"
      },
      "source": [
        "#### Visualize the training 1.1"
      ]
    },
    {
      "cell_type": "markdown",
      "source": [
        "Veuillez visualiser l'historique d'entraînement stocké dans 'history_1' en utilisant Matplotlib. Tracez un graphique affichant la perte d'entraînement et la perte de validation en fonction des epochs.\n",
        "Nommez le graphique 'Training and validation loss 1', étiquetez l'axe des x 'Epochs', l'axe des y 'Loss 1', et ajoutez une légende pour identifier les courbes. Les courbes doivent être différenciées par un label 'Training loss 1' et 'Validation loss 1'."
      ],
      "metadata": {
        "id": "bpK_pwTp6Yy1"
      }
    },
    {
      "cell_type": "code",
      "metadata": {
        "id": "4dIcs5hdQ3Qs",
        "outputId": "b25c9e0c-d0c7-4909-ee8f-76ecc3766dea",
        "colab": {
          "base_uri": "https://localhost:8080/",
          "height": 472
        }
      },
      "source": [],
      "execution_count": null,
      "outputs": [
        {
          "output_type": "display_data",
          "data": {
            "text/plain": [
              "<Figure size 640x480 with 1 Axes>"
            ],
            "image/png": "[encoded data removed]"
          },
          "metadata": {}
        }
      ]
    },
    {
      "cell_type": "markdown",
      "metadata": {
        "id": "Y8hS8bQWR7QJ"
      },
      "source": [
        "#### Try using larger or smaller layers"
      ]
    },
    {
      "cell_type": "markdown",
      "metadata": {
        "id": "VrqRGgNbSGXp"
      },
      "source": [
        "##### 32 **units**"
      ]
    },
    {
      "cell_type": "markdown",
      "metadata": {
        "id": "iTsoeyyASHe8"
      },
      "source": [
        "###### Defining the network 1.2"
      ]
    },
    {
      "cell_type": "markdown",
      "source": [
        "Veuillez créer un modèle séquentiel nommé 'model_1'. Ajoutez-y successivement trois couches Dense :\n",
        "\n",
        "1. Une première couche avec 32 unités, une fonction d'activation 'relu', et une forme d'entrée de (1000,).\n",
        "2. Une deuxième couche avec 32 unités et une fonction d'activation 'relu'.\n",
        "3. Une troisième couche avec 46 unités et une fonction d'activation 'softmax'."
      ],
      "metadata": {
        "id": "EfpEYHGa6pqy"
      }
    },
    {
      "cell_type": "code",
      "metadata": {
        "id": "QsYtg6ZPSxDY",
        "colab": {
          "base_uri": "https://localhost:8080/"
        },
        "outputId": "44ac1dc7-c88b-482e-8793-876ed4f44693"
      },
      "source": [],
      "execution_count": null,
      "outputs": [
        {
          "output_type": "stream",
          "name": "stderr",
          "text": [
            "/usr/local/lib/python3.11/dist-packages/keras/src/layers/core/dense.py:87: UserWarning: Do not pass an `input_shape`/`input_dim` argument to a layer. When using Sequential models, prefer using an `Input(shape)` object as the first layer in the model instead.\n",
            "  super().__init__(activity_regularizer=activity_regularizer, **kwargs)\n"
          ]
        }
      ]
    },
    {
      "cell_type": "markdown",
      "metadata": {
        "id": "aYRDzOZcQ8zh"
      },
      "source": [
        "Defining the network 1.3"
      ]
    },
    {
      "cell_type": "markdown",
      "metadata": {
        "id": "igoqITUSi1LS"
      },
      "source": [
        "Defining the optimizer and the loss"
      ]
    },
    {
      "cell_type": "markdown",
      "source": [
        "Veuillez compiler le modèle 'model_1' en utilisant l'optimiseur 'rmsprop', la fonction de perte 'categorical_crossentropy', et la métrique 'accuracy'."
      ],
      "metadata": {
        "id": "gsw5HFiV68R6"
      }
    },
    {
      "cell_type": "code",
      "metadata": {
        "id": "XAd5wmQJimDb"
      },
      "source": [],
      "execution_count": null,
      "outputs": []
    },
    {
      "cell_type": "markdown",
      "source": [
        "Veuillez créer un modèle séquentiel nommé 'model_2'. Ajoutez-y successivement trois couches Dense :\n",
        "\n",
        "1. Une première couche avec 128 unités, une fonction d'activation 'relu', et une forme d'entrée de (10000,).\n",
        "2. Une deuxième couche avec 128 unités et une fonction d'activation 'relu'.\n",
        "3. Une troisième couche avec 46 unités et une fonction d'activation 'softmax'."
      ],
      "metadata": {
        "id": "V5H3xsyt6_33"
      }
    },
    {
      "cell_type": "code",
      "metadata": {
        "id": "wy1UXocKmSO2"
      },
      "source": [],
      "execution_count": null,
      "outputs": []
    },
    {
      "cell_type": "markdown",
      "metadata": {
        "id": "nLrhaT9XnUeC"
      },
      "source": [
        "###### Defining the network 1.4"
      ]
    },
    {
      "cell_type": "markdown",
      "metadata": {
        "id": "bKoqWme8nHGO"
      },
      "source": [
        "###### Defining the optimizer and the loss"
      ]
    },
    {
      "cell_type": "markdown",
      "source": [
        "Veuillez compiler le modèle nommé 'model_2' en utilisant l'optimiseur 'rmsprop', la fonction de perte 'categorical_crossentropy', et la métrique 'accuracy'."
      ],
      "metadata": {
        "id": "27g__jdW7SMX"
      }
    },
    {
      "cell_type": "code",
      "metadata": {
        "id": "IWWDIhdBjCJY"
      },
      "source": [],
      "execution_count": null,
      "outputs": []
    },
    {
      "cell_type": "markdown",
      "source": [
        "Veuillez entraîner le modèle nommé 'model_2' en utilisant 'partial_x_train' et 'partial_y_train' comme données d'entraînement, 'x_val' et 'y_val' comme données de validation, pendant 2 epochs avec une taille de batch de 512. Stockez l'historique d'entraînement dans une variable nommée 'history_1_2'."
      ],
      "metadata": {
        "id": "-O8g_1XF7Vuz"
      }
    },
    {
      "cell_type": "code",
      "metadata": {
        "id": "W7wB_T5FntKd",
        "outputId": "9336b633-c173-4d5d-c028-d4d4c4f6e0a1",
        "colab": {
          "base_uri": "https://localhost:8080/"
        }
      },
      "source": [],
      "execution_count": null,
      "outputs": [
        {
          "output_type": "stream",
          "name": "stdout",
          "text": [
            "Epoch 1/2\n",
            "\u001b[1m16/16\u001b[0m \u001b[32m━━━━━━━━━━━━━━━━━━━━\u001b[0m\u001b[37m\u001b[0m \u001b[1m1s\u001b[0m 90ms/step - accuracy: 0.7843 - loss: 0.9995 - val_accuracy: 0.2040 - val_loss: 4.0846\n",
            "Epoch 2/2\n",
            "\u001b[1m16/16\u001b[0m \u001b[32m━━━━━━━━━━━━━━━━━━━━\u001b[0m\u001b[37m\u001b[0m \u001b[1m1s\u001b[0m 91ms/step - accuracy: 0.8460 - loss: 0.7322 - val_accuracy: 0.2020 - val_loss: 4.3370\n"
          ]
        }
      ]
    },
    {
      "cell_type": "markdown",
      "source": [],
      "metadata": {
        "id": "CBcxswHE7qRk"
      }
    },
    {
      "cell_type": "markdown",
      "source": [
        "Veuillez visualiser l'historique d'entraînement stocké dans 'history_1_2' en utilisant Matplotlib. Tracez un graphique affichant la perte d'entraînement et la perte de validation en fonction des epochs. Nommez le graphique 'Training and validation loss 1_2', étiquetez l'axe des x 'Epochs 1_2', l'axe des y 'Loss 1_2', et ajoutez une légende pour identifier les courbes. Les courbes doivent être différenciées par un label 'Training loss 1_2' et 'Validation loss 1_2'."
      ],
      "metadata": {
        "id": "RtF_22pS7uWZ"
      }
    },
    {
      "cell_type": "code",
      "metadata": {
        "id": "kGhQ0x8wrVrY",
        "outputId": "124211b8-578a-44e9-e73a-bfe9fca2e95c",
        "colab": {
          "base_uri": "https://localhost:8080/",
          "height": 472
        }
      },
      "source": [],
      "execution_count": null,
      "outputs": [
        {
          "output_type": "display_data",
          "data": {
            "text/plain": [
              "<Figure size 640x480 with 1 Axes>"
            ],
            "image/png": "[encoded data removed]"
          },
          "metadata": {}
        }
      ]
    }
  ]
}