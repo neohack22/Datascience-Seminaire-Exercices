{
  "nbformat": 4,
  "nbformat_minor": 0,
  "metadata": {
    "kernelspec": {
      "display_name": "Python 2",
      "language": "python",
      "name": "python2"
    },
    "language_info": {
      "codemirror_mode": {
        "name": "ipython",
        "version": 2
      },
      "file_extension": ".py",
      "mimetype": "text/x-python",
      "name": "python",
      "nbconvert_exporter": "python",
      "pygments_lexer": "ipython2",
      "version": "2.7.10"
    },
    "colab": {
      "provenance": [],
      "include_colab_link": true
    }
  },
  "cells": [
    {
      "cell_type": "markdown",
      "metadata": {
        "id": "view-in-github",
        "colab_type": "text"
      },
      "source": [
        "<a href=\"https://colab.research.google.com/github/neohack22/Datascience-Seminaire-Exercices/blob/main/Exercices_de_F_de_seminaire_SD_de_Introduction_Big_O_checkpoint.ipynb\" target=\"_parent\"><img src=\"https://colab.research.google.com/assets/colab-badge.svg\" alt=\"Open In Colab\"/></a>"
      ]
    },
    {
      "cell_type": "markdown",
      "metadata": {
        "collapsed": true,
        "id": "Re7bh0SsRW5B"
      },
      "source": [
        "# Introduction à l'analyse d'algorithmes et à la notation Big O\n",
        "\n",
        "Dans ce cours, nous allons discuter de la manière d'analyser les algorithmes et des raisons pour lesquelles il est important de le faire !\n",
        "\n",
        "## Pourquoi analyser les algorithmes ?\n",
        "\n",
        "Avant de commencer, clarifions ce qu'est un algorithme. Dans ce cours, un **algorithme** est simplement une procédure ou une formule permettant de résoudre un problème. Certains problèmes sont suffisamment connus pour que les algorithmes aient des noms, et certaines procédures sont suffisamment courantes pour que l'algorithme qui leur est associé ait également un nom. Nous avons donc maintenant une bonne question à laquelle nous devons répondre :\n",
        "\n",
        "*Comment analyser les algorithmes et comment pouvons-nous les comparer entre eux ?*\n",
        "\n",
        "Imaginez que vous et un ami ayez tous les deux trouvé des fonctions pour additionner les nombres de 0 à N. Comment compareriez-vous les fonctions et les algorithmes au sein de ces fonctions ? Disons que vous avez tous les deux trouvé ces deux fonctions distinctes :"
      ]
    },
    {
      "cell_type": "markdown",
      "source": [
        "Cette fonction `sum1` calcule la somme de tous les nombres de 0 jusqu'à un nombre donné (`n`) en ajoutant répétitivement chaque nombre à un total cumulé (`final_sum`) dans une boucle. Finalement, elle retourne la somme totale."
      ],
      "metadata": {
        "id": "6-tZOLpk0kL8"
      }
    },
    {
      "cell_type": "code",
      "metadata": {
        "collapsed": true,
        "id": "NyT4-lzdRW5L"
      },
      "source": [
        "# First function (Note the use of xrange since this is in Python 2)\n",
        "def sum1(n):\n",
        "    '''\n",
        "    Take an input of n and return the sum of the numbers from 0 to n\n",
        "    '''\n",
        "    final_sum = 0\n",
        "    for x in xrange(n+1):\n",
        "        final_sum += x\n",
        "\n",
        "    return final_sum"
      ],
      "execution_count": null,
      "outputs": []
    },
    {
      "cell_type": "markdown",
      "source": [
        "*  `def sum1(n):` : Cette ligne définit une fonction nommée `sum1`.\n",
        "  *  `def` est un mot-clé Python utilisé pour définir des fonctions.\n",
        "  *  `sum1` est le nom de la fonction.\n",
        "  *  `(n)` indique que la fonction accepte un paramètre d'entrée, qui sera appelé `n` à l'intérieur de la fonction.\n",
        "*  `'''...'''` : Ceci est une docstring, une chaîne de caractères multiligne utilisée pour documenter ce que fait la fonction. Dans ce cas, elle explique que la fonction prend un entier `n` en entrée et retourne la somme des nombres de 0 à `n`.\n",
        "*  `final_sum = 0` : Cette ligne initialise une variable nommée `final_sum` à 0. Cette variable stockera la somme accumulée des nombres.\n",
        "*  `for x in xrange(n+1):` : Cette ligne démarre une boucle qui va itérer sur une séquence de nombres.\n",
        "  *  `for` et `in` sont des mots-clés Python utilisés pour les boucles.\n",
        "  *  `xrange(n+1)` crée une séquence de nombres de 0 à `n` (inclus). En Python 3, il est remplacé par `range`.\n",
        "  *  `x` prendra chaque valeur de la séquence à chaque itération de la boucle.\n",
        "*  `final_sum += x` : Cette ligne est à l'intérieur de la boucle et est exécutée à plusieurs reprises. Elle ajoute la valeur actuelle de `x` à `final_sum`, accumulant ainsi la somme. `+=` est un raccourci pour `final_sum = final_sum + x`.\n",
        "*  `return final_sum` : Cette ligne est exécutée après la fin de la boucle. Elle retourne la valeur finale calculée de `final_sum`, qui représente la somme des nombres de 0 à n.\n"
      ],
      "metadata": {
        "id": "RyEwaNvxywy-"
      }
    },
    {
      "cell_type": "code",
      "metadata": {
        "id": "fYcFR9cTRW5N",
        "outputId": "e7e15602-10b5-4cfb-c20f-535fd5b3ac63"
      },
      "source": [
        "sum1(10)"
      ],
      "execution_count": null,
      "outputs": [
        {
          "output_type": "execute_result",
          "data": {
            "text/plain": [
              "55"
            ]
          },
          "metadata": {
            "tags": []
          },
          "execution_count": 5
        }
      ]
    },
    {
      "cell_type": "markdown",
      "source": [
        "Simplifier la fonction sum1 pour calculer la somme des nombres de 0 à n de manière plus efficace en utilisant une formule mathématique."
      ],
      "metadata": {
        "id": "eS51ugK95s83"
      }
    },
    {
      "cell_type": "code",
      "metadata": {
        "collapsed": true,
        "id": "EFXWTLmWRW5O"
      },
      "source": [],
      "execution_count": null,
      "outputs": []
    },
    {
      "cell_type": "markdown",
      "source": [
        "La fonction `sum2` fournit un moyen direct de calculer la somme des nombres de 0 à `n` sans utiliser de boucle. Elle exploite une formule mathématique pour y parvenir efficacement. Au lieu de parcourir chaque nombre et de l'ajouter à un total, elle utilise un seul calcul pour obtenir le résultat. Cette approche rend généralement `sum2` plus rapide qu'une approche itérative, en particulier pour les grandes valeurs de `n`."
      ],
      "metadata": {
        "id": "I96zI5_i1Kep"
      }
    },
    {
      "cell_type": "code",
      "metadata": {
        "id": "IPNg2P4lRW5P",
        "outputId": "3db416f7-7728-4d63-db56-8c16eb3f59f4"
      },
      "source": [
        "sum2(10)"
      ],
      "execution_count": null,
      "outputs": [
        {
          "output_type": "execute_result",
          "data": {
            "text/plain": [
              "55"
            ]
          },
          "metadata": {
            "tags": []
          },
          "execution_count": 9
        }
      ]
    },
    {
      "cell_type": "markdown",
      "metadata": {
        "id": "RIsfMNO6RW5P"
      },
      "source": [
        "Vous remarquerez que les deux fonctions ont le même résultat, mais des algorithmes complètement différents. Vous noterez que la première fonction additionne les nombres de manière itérative, tandis que la deuxième fonction utilise : $$ \\sum_{i=0}^{n} {i} = \\frac{n(n+1)}{2} $$\n",
        "\n",
        "Alors, comment pouvons-nous comparer objectivement les algorithmes ?\n",
        "\n",
        "Nous pourrions comparer la quantité d'espace qu'ils occupent en mémoire ou nous pourrions également comparer le temps d'exécution de chaque fonction. Nous pouvons utiliser la fonction magique intégrée %timeit dans Jupyter pour comparer le temps d'exécution des fonctions. La magie [**%timeit**](https://ipython.org/ipython-doc/3/interactive/magics.html#magic-timeit) dans les notebooks Jupyter répétera l'itération de la boucle un certain nombre de fois et prendra le meilleur résultat. Consultez le lien pour la documentation.\n",
        "\n",
        "Allons-y et comparons le temps qu'il a fallu pour exécuter les fonctions :"
      ]
    },
    {
      "cell_type": "code",
      "metadata": {
        "id": "ig0y0hbvRW5Q",
        "outputId": "916f9199-729a-4c72-a87c-bf37ab81fa6b"
      },
      "source": [],
      "execution_count": null,
      "outputs": [
        {
          "output_type": "stream",
          "text": [
            "The slowest run took 5.15 times longer than the fastest. This could mean that an intermediate result is being cached \n",
            "100000 loops, best of 3: 4.86 µs per loop\n"
          ],
          "name": "stdout"
        }
      ]
    },
    {
      "cell_type": "code",
      "metadata": {
        "id": "WUHxiv3xRW5R",
        "outputId": "e90f0df6-5049-4c0b-d82e-8928c01fab36"
      },
      "source": [],
      "execution_count": null,
      "outputs": [
        {
          "output_type": "stream",
          "text": [
            "The slowest run took 16.54 times longer than the fastest. This could mean that an intermediate result is being cached \n",
            "10000000 loops, best of 3: 173 ns per loop\n"
          ],
          "name": "stdout"
        }
      ]
    },
    {
      "cell_type": "markdown",
      "metadata": {
        "id": "ZcP-QQLzRW5R"
      },
      "source": [
        "Nous pouvons constater que la deuxième fonction est beaucoup plus efficace ! Elle s'exécute à un rythme beaucoup plus rapide que la première. Cependant, nous ne pouvons pas utiliser le « temps d'exécution » comme mesure objective, car cela dépendra de la vitesse de l'ordinateur lui-même et des capacités du matériel. Nous devrons donc utiliser une autre méthode, Big-O !"
      ]
    }
  ]
}