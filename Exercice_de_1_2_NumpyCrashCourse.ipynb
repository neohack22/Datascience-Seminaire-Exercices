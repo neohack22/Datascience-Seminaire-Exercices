{
  "nbformat": 4,
  "nbformat_minor": 0,
  "metadata": {
    "colab": {
      "provenance": [],
      "authorship_tag": "ABX9TyPsphbusu2xzxNxRofvl7VA",
      "include_colab_link": true
    },
    "kernelspec": {
      "name": "python3",
      "display_name": "Python 3"
    },
    "language_info": {
      "name": "python"
    }
  },
  "cells": [
    {
      "cell_type": "markdown",
      "metadata": {
        "id": "view-in-github",
        "colab_type": "text"
      },
      "source": [
        "<a href=\"https://colab.research.google.com/github/neohack22/Datascience-Seminaire-Exercices/blob/main/Exercice_de_1_2_NumpyCrashCourse.ipynb\" target=\"_parent\"><img src=\"https://colab.research.google.com/assets/colab-badge.svg\" alt=\"Open In Colab\"/></a>"
      ]
    },
    {
      "cell_type": "markdown",
      "source": [
        "Retrouver pour chaque sortie l'instruction correspondante."
      ],
      "metadata": {
        "id": "bv2hb_pfmX76"
      }
    },
    {
      "cell_type": "markdown",
      "source": [
        "\n",
        "\n",
        "```\n",
        "import numpy as np\n",
        "my_list = [1,2,3]\n",
        "```\n",
        "\n"
      ],
      "metadata": {
        "id": "2K2-QrpclNlg"
      }
    },
    {
      "cell_type": "code",
      "source": [],
      "metadata": {
        "id": "RB39PztnyhhC"
      },
      "execution_count": null,
      "outputs": []
    },
    {
      "cell_type": "markdown",
      "source": [
        "##### array([1, 2, 3])"
      ],
      "metadata": {
        "id": "X4HkdLem4jGy"
      }
    },
    {
      "cell_type": "code",
      "source": [],
      "metadata": {
        "colab": {
          "base_uri": "https://localhost:8080/"
        },
        "id": "gDYShH-RyeMk",
        "outputId": "9e60e48b-23ae-49cc-f609-bae706349454"
      },
      "execution_count": null,
      "outputs": [
        {
          "output_type": "execute_result",
          "data": {
            "text/plain": [
              "array([1, 2, 3])"
            ]
          },
          "metadata": {},
          "execution_count": 3
        }
      ]
    },
    {
      "cell_type": "markdown",
      "source": [
        "##### numpy.ndarray"
      ],
      "metadata": {
        "id": "Uh4n15TP4qbm"
      }
    },
    {
      "cell_type": "code",
      "source": [],
      "metadata": {
        "colab": {
          "base_uri": "https://localhost:8080/"
        },
        "id": "7OMKvMtgywM0",
        "outputId": "5e951b8e-04c6-40ce-b227-3c2fa9f86c7e"
      },
      "execution_count": null,
      "outputs": [
        {
          "output_type": "execute_result",
          "data": {
            "text/plain": [
              "numpy.ndarray"
            ]
          },
          "metadata": {},
          "execution_count": 4
        }
      ]
    },
    {
      "cell_type": "code",
      "source": [],
      "metadata": {
        "id": "HHlhF4ady0OG"
      },
      "execution_count": null,
      "outputs": []
    },
    {
      "cell_type": "markdown",
      "source": [
        "##### array([1, 2, 3])"
      ],
      "metadata": {
        "id": "_toOXUNJ4xmE"
      }
    },
    {
      "cell_type": "code",
      "source": [],
      "metadata": {
        "colab": {
          "base_uri": "https://localhost:8080/"
        },
        "id": "BvzOJ6u-zCeF",
        "outputId": "d0e3f2c2-dc16-4568-d026-77ab5037fc82"
      },
      "execution_count": null,
      "outputs": [
        {
          "output_type": "execute_result",
          "data": {
            "text/plain": [
              "array([1, 2, 3])"
            ]
          },
          "metadata": {},
          "execution_count": 6
        }
      ]
    },
    {
      "cell_type": "markdown",
      "source": [
        "##### array([0, 1, 2, 3, 4, 5, 6, 7, 8, 9])"
      ],
      "metadata": {
        "id": "YLdbFMyv41gF"
      }
    },
    {
      "cell_type": "code",
      "source": [],
      "metadata": {
        "colab": {
          "base_uri": "https://localhost:8080/"
        },
        "id": "JMYPJc9RzC-5",
        "outputId": "0405fc42-a282-4d0d-8e64-a9bb894f1785"
      },
      "execution_count": null,
      "outputs": [
        {
          "output_type": "execute_result",
          "data": {
            "text/plain": [
              "array([0, 1, 2, 3, 4, 5, 6, 7, 8, 9])"
            ]
          },
          "metadata": {},
          "execution_count": 7
        }
      ]
    },
    {
      "cell_type": "markdown",
      "source": [
        "##### array([ 1,  2,  3,  4,  5,  6,  7,  8,  9, 10])"
      ],
      "metadata": {
        "id": "Ulx3_mCj48XX"
      }
    },
    {
      "cell_type": "code",
      "source": [],
      "metadata": {
        "colab": {
          "base_uri": "https://localhost:8080/"
        },
        "id": "LHON9ZeDzKVd",
        "outputId": "0ccc6baa-9877-4b2e-c1e7-78c59a90cd71"
      },
      "execution_count": null,
      "outputs": [
        {
          "output_type": "execute_result",
          "data": {
            "text/plain": [
              "array([ 1,  2,  3,  4,  5,  6,  7,  8,  9, 10])"
            ]
          },
          "metadata": {},
          "execution_count": 8
        }
      ]
    },
    {
      "cell_type": "markdown",
      "source": [
        "##### array([ 0,  2,  4,  6,  8, 10])"
      ],
      "metadata": {
        "id": "S477IuLY5DCp"
      }
    },
    {
      "cell_type": "code",
      "source": [],
      "metadata": {
        "colab": {
          "base_uri": "https://localhost:8080/"
        },
        "id": "MN1RYtUVzSXK",
        "outputId": "1ce5f252-3188-4139-ec72-4d98885458ee"
      },
      "execution_count": null,
      "outputs": [
        {
          "output_type": "execute_result",
          "data": {
            "text/plain": [
              "array([ 0,  2,  4,  6,  8, 10])"
            ]
          },
          "metadata": {},
          "execution_count": 9
        }
      ]
    },
    {
      "cell_type": "markdown",
      "source": [
        "##### array([0., 0., 0., 0., 0.])"
      ],
      "metadata": {
        "id": "X_B4t8QY5Gfg"
      }
    },
    {
      "cell_type": "code",
      "source": [],
      "metadata": {
        "colab": {
          "base_uri": "https://localhost:8080/"
        },
        "id": "hSk_G3qlzVmY",
        "outputId": "a5f2a0d7-663d-492c-9328-71b0869c07ae"
      },
      "execution_count": null,
      "outputs": [
        {
          "output_type": "execute_result",
          "data": {
            "text/plain": [
              "array([0., 0., 0., 0., 0.])"
            ]
          },
          "metadata": {},
          "execution_count": 10
        }
      ]
    },
    {
      "cell_type": "markdown",
      "source": [
        "##### array([[0., 0., 0., 0., 0.], [0., 0., 0., 0., 0.], [0., 0., 0., 0., 0.]])"
      ],
      "metadata": {
        "id": "Jk7gi6jM5KWR"
      }
    },
    {
      "cell_type": "code",
      "source": [],
      "metadata": {
        "colab": {
          "base_uri": "https://localhost:8080/"
        },
        "id": "EPU0f5-SzXj6",
        "outputId": "3327605f-fbab-4fee-b5c2-dc7c4c040146"
      },
      "execution_count": null,
      "outputs": [
        {
          "output_type": "execute_result",
          "data": {
            "text/plain": [
              "array([[0., 0., 0., 0., 0.],\n",
              "       [0., 0., 0., 0., 0.],\n",
              "       [0., 0., 0., 0., 0.]])"
            ]
          },
          "metadata": {},
          "execution_count": 11
        }
      ]
    },
    {
      "cell_type": "markdown",
      "source": [
        "##### array([1., 1., 1.])"
      ],
      "metadata": {
        "id": "aIWxVCIh5YOx"
      }
    },
    {
      "cell_type": "code",
      "source": [],
      "metadata": {
        "colab": {
          "base_uri": "https://localhost:8080/"
        },
        "id": "wRxPkuTqza-N",
        "outputId": "01890318-2edd-4221-d133-36ad3df7acc1"
      },
      "execution_count": null,
      "outputs": [
        {
          "output_type": "execute_result",
          "data": {
            "text/plain": [
              "array([1., 1., 1.])"
            ]
          },
          "metadata": {},
          "execution_count": 12
        }
      ]
    },
    {
      "cell_type": "markdown",
      "source": [
        "##### array([[1., 1., 1., 1., 1.], [1., 1., 1., 1., 1.], [1., 1., 1., 1., 1.]])"
      ],
      "metadata": {
        "id": "ZZMX2ptd5jzT"
      }
    },
    {
      "cell_type": "code",
      "source": [],
      "metadata": {
        "colab": {
          "base_uri": "https://localhost:8080/"
        },
        "id": "jigZyPSJzlJk",
        "outputId": "f02ee43f-049d-4173-acf6-d1468026dee3"
      },
      "execution_count": null,
      "outputs": [
        {
          "output_type": "execute_result",
          "data": {
            "text/plain": [
              "array([[1., 1., 1., 1., 1.],\n",
              "       [1., 1., 1., 1., 1.],\n",
              "       [1., 1., 1., 1., 1.]])"
            ]
          },
          "metadata": {},
          "execution_count": 14
        }
      ]
    },
    {
      "cell_type": "markdown",
      "source": [
        "##### array([ 0. ,  1.1,  2.2,  3.3,  4.4,  5.5,  6.6,  7.7,  8.8,  9.9, 11. ])"
      ],
      "metadata": {
        "id": "GaxGEAUL6sGv"
      }
    },
    {
      "cell_type": "code",
      "source": [],
      "metadata": {
        "colab": {
          "base_uri": "https://localhost:8080/"
        },
        "id": "OjM1GYaSzodA",
        "outputId": "2f195940-90a7-4d6d-a04c-24ecde0d501c"
      },
      "execution_count": null,
      "outputs": [
        {
          "output_type": "execute_result",
          "data": {
            "text/plain": [
              "array([ 0. ,  1.1,  2.2,  3.3,  4.4,  5.5,  6.6,  7.7,  8.8,  9.9, 11. ])"
            ]
          },
          "metadata": {},
          "execution_count": 15
        }
      ]
    },
    {
      "cell_type": "markdown",
      "source": [
        "##### array([ 0.        ,  0.11111111,  0.22222222,  0.33333333,  0.44444444, 0.55555556,  0.66666667,  0.77777778,  0.88888889,  1.        , 1.11111111,  1.22222222,  1.33333333,  1.44444444,  1.55555556, 1.66666667,  1.77777778,  1.88888889,  2.        ,  2.11111111, 2.22222222,  2.33333333,  2.44444444,  2.55555556,  2.66666667, 2.77777778,  2.88888889,  3.        ,  3.11111111,  3.22222222, 3.33333333,  3.44444444,  3.55555556,  3.66666667,  3.77777778, 3.88888889,  4.        ,  4.11111111,  4.22222222,  4.33333333, 4.44444444,  4.55555556,  4.66666667,  4.77777778,  4.88888889, 5.        ,  5.11111111,  5.22222222,  5.33333333,  5.44444444, 5.55555556,  5.66666667,  5.77777778,  5.88888889,  6.        , 6.11111111,  6.22222222,  6.33333333,  6.44444444,  6.55555556, 6.66666667,  6.77777778,  6.88888889,  7.        ,  7.11111111, 7.22222222,  7.33333333,  7.44444444,  7.55555556,  7.66666667, 7.77777778,  7.88888889,  8.        ,  8.11111111,  8.22222222, 8.33333333,  8.44444444,  8.55555556,  8.66666667,  8.77777778, 8.88888889,  9.        ,  9.11111111,  9.22222222,  9.33333333, 9.44444444,  9.55555556,  9.66666667,  9.77777778,  9.88888889, 10.        , 10.11111111, 10.22222222, 10.33333333, 10.44444444, 10.55555556, 10.66666667, 10.77777778, 10.88888889, 11.])"
      ],
      "metadata": {
        "id": "qiApTrJ36zeX"
      }
    },
    {
      "cell_type": "code",
      "source": [],
      "metadata": {
        "colab": {
          "base_uri": "https://localhost:8080/"
        },
        "id": "sgYgxmoL1xc6",
        "outputId": "439c1d43-a9de-4c9f-b6ef-b2226a162b55"
      },
      "execution_count": null,
      "outputs": [
        {
          "output_type": "execute_result",
          "data": {
            "text/plain": [
              "array([ 0.        ,  0.11111111,  0.22222222,  0.33333333,  0.44444444,\n",
              "        0.55555556,  0.66666667,  0.77777778,  0.88888889,  1.        ,\n",
              "        1.11111111,  1.22222222,  1.33333333,  1.44444444,  1.55555556,\n",
              "        1.66666667,  1.77777778,  1.88888889,  2.        ,  2.11111111,\n",
              "        2.22222222,  2.33333333,  2.44444444,  2.55555556,  2.66666667,\n",
              "        2.77777778,  2.88888889,  3.        ,  3.11111111,  3.22222222,\n",
              "        3.33333333,  3.44444444,  3.55555556,  3.66666667,  3.77777778,\n",
              "        3.88888889,  4.        ,  4.11111111,  4.22222222,  4.33333333,\n",
              "        4.44444444,  4.55555556,  4.66666667,  4.77777778,  4.88888889,\n",
              "        5.        ,  5.11111111,  5.22222222,  5.33333333,  5.44444444,\n",
              "        5.55555556,  5.66666667,  5.77777778,  5.88888889,  6.        ,\n",
              "        6.11111111,  6.22222222,  6.33333333,  6.44444444,  6.55555556,\n",
              "        6.66666667,  6.77777778,  6.88888889,  7.        ,  7.11111111,\n",
              "        7.22222222,  7.33333333,  7.44444444,  7.55555556,  7.66666667,\n",
              "        7.77777778,  7.88888889,  8.        ,  8.11111111,  8.22222222,\n",
              "        8.33333333,  8.44444444,  8.55555556,  8.66666667,  8.77777778,\n",
              "        8.88888889,  9.        ,  9.11111111,  9.22222222,  9.33333333,\n",
              "        9.44444444,  9.55555556,  9.66666667,  9.77777778,  9.88888889,\n",
              "       10.        , 10.11111111, 10.22222222, 10.33333333, 10.44444444,\n",
              "       10.55555556, 10.66666667, 10.77777778, 10.88888889, 11.        ])"
            ]
          },
          "metadata": {},
          "execution_count": 16
        }
      ]
    },
    {
      "cell_type": "code",
      "source": [],
      "metadata": {
        "colab": {
          "base_uri": "https://localhost:8080/"
        },
        "id": "dcH-Stxw2-r1",
        "outputId": "50ce80e0-ac8a-4497-db0d-c88386ad8421"
      },
      "execution_count": null,
      "outputs": [
        {
          "output_type": "execute_result",
          "data": {
            "text/plain": [
              "array([0.00000000e+00, 2.20044009e-03, 4.40088018e-03, ...,\n",
              "       1.09955991e+01, 1.09977996e+01, 1.10000000e+01])"
            ]
          },
          "metadata": {},
          "execution_count": 17
        }
      ]
    },
    {
      "cell_type": "code",
      "source": [],
      "metadata": {
        "colab": {
          "base_uri": "https://localhost:8080/"
        },
        "id": "vaYJ26Sd3B_A",
        "outputId": "3da2fcb4-b423-4c61-8ba5-281686511518"
      },
      "execution_count": null,
      "outputs": [
        {
          "output_type": "execute_result",
          "data": {
            "text/plain": [
              "4"
            ]
          },
          "metadata": {},
          "execution_count": 18
        }
      ]
    },
    {
      "cell_type": "code",
      "source": [],
      "metadata": {
        "colab": {
          "base_uri": "https://localhost:8080/"
        },
        "id": "FvjiIDrZ3MyP",
        "outputId": "2bfddbcf-2c29-4947-a0a2-7395aff7034e"
      },
      "execution_count": null,
      "outputs": [
        {
          "output_type": "execute_result",
          "data": {
            "text/plain": [
              "2"
            ]
          },
          "metadata": {},
          "execution_count": 19
        }
      ]
    },
    {
      "cell_type": "code",
      "source": [],
      "metadata": {
        "colab": {
          "base_uri": "https://localhost:8080/"
        },
        "id": "JJpfmYD03Qc7",
        "outputId": "6443912f-55be-4bc3-f3b5-dd267a039f89"
      },
      "execution_count": null,
      "outputs": [
        {
          "output_type": "execute_result",
          "data": {
            "text/plain": [
              "713"
            ]
          },
          "metadata": {},
          "execution_count": 20
        }
      ]
    },
    {
      "cell_type": "code",
      "source": [],
      "metadata": {
        "colab": {
          "base_uri": "https://localhost:8080/"
        },
        "id": "oYl6g98o3S6P",
        "outputId": "8e495851-4e33-4e71-dd78-3235aae7e1d2"
      },
      "execution_count": null,
      "outputs": [
        {
          "output_type": "execute_result",
          "data": {
            "text/plain": [
              "array([[  7, 919, 780],\n",
              "       [172, 608, 147],\n",
              "       [881, 166, 273]])"
            ]
          },
          "metadata": {},
          "execution_count": 21
        }
      ]
    },
    {
      "cell_type": "code",
      "source": [
        "np.random.normal"
      ],
      "metadata": {
        "colab": {
          "base_uri": "https://localhost:8080/"
        },
        "id": "UOcUCLmV3V4X",
        "outputId": "fe8f5079-124b-4a59-85f9-d71fc766f700"
      },
      "execution_count": null,
      "outputs": [
        {
          "output_type": "execute_result",
          "data": {
            "text/plain": [
              "<function RandomState.normal>"
            ]
          },
          "metadata": {},
          "execution_count": 22
        }
      ]
    },
    {
      "cell_type": "markdown",
      "source": [
        "*   `random` : module au sein de numpy spécialement conçu pour générer des nombres aléatoires.\n",
        "*   `normal` : fonction au sein du module `random` qui génère des nombres aléatoires à partir d'une **distribution normale**, également appelée **distribution gaussienne**. Cette distribution est couramment utilisée en statistique et en probabilité en raison de sa courbe en forme de cloche.\n",
        "\n",
        "`np.random.normal` **en elle-même ne génère aucun nombre aléatoire**. Elle fait simplement référence à la fonction qui peut être utilisée pour les générer. Pour obtenir réellement des nombres aléatoires à partir d'une distribution normale, vous devrez appeler cette fonction avec des paramètres spécifiques, comme la moyenne (centre) et l'écart type (dispersion) de la distribution.\n",
        "\n",
        "Par exemple, pour générer 10 nombres aléatoires à partir d'une distribution normale avec une moyenne de 0 et un écart type de 1, vous utiliseriez :\n",
        "\n",
        "\n",
        "`np.random.normal(loc=0, scale=1, size=10)`"
      ],
      "metadata": {
        "id": "Wbjbxblu8HyW"
      }
    },
    {
      "cell_type": "markdown",
      "source": [
        "Par exemple, les modèles dits génératifs génèrent des distributions de probabilités, qui sont ensuite utilisées pour générer de nouvelles données :\n",
        "\n",
        "1.   **Apprentissage de la distribution** : Pendant l'entraînement, le modèle apprend la distribution de probabilité des données d'entrée (dans le cas de GPT, du texte). Il apprend par exemple la probabilité d'apparition d'un mot après une séquence de mots donnée.\n",
        "\n",
        "2.   **Prédiction de la prochaine donnée** : Lorsqu'on lui demande de générer du texte, le modèle utilise sa connaissance de la distribution pour prédire la prochaine donnée (le prochain mot, caractère, etc.). Il calcule la probabilité de chaque option possible et choisit celle qui a la plus haute probabilité.\n",
        "\n",
        "3.   **Génération itérative** : Ce processus est répété de manière itérative, en utilisant la donnée nouvellement générée comme contexte pour prédire la suivante. C'est ainsi que le modèle construit des séquences de données (des phrases, des paragraphes, etc.).\n",
        "\n",
        "4.   **Echantillonnage** : Il est important de noter que le modèle ne choisit pas toujours l'option la plus probable. Il peut également **échantillonner** à partir de la distribution, c'est-à-dire choisir une option au hasard en fonction de sa probabilité. Cela permet au modèle de générer des données plus variées et créatives, et d'éviter de se répéter constamment.\n",
        "\n",
        "En résumé:\n",
        "\n",
        "*   Le modèle **ne crée pas de nouvelles données à partir de rien**. Il utilise les données d'entraînement pour apprendre une distribution de probabilité.\n",
        "*   Il utilise cette distribution pour **prédire la prochaine donnée** dans une séquence, soit en choisissant l'option la plus probable, soit en échantillonnant à partir de la distribution.\n",
        "*   La génération de nouvelles données est donc un** processus itératif** basé sur des prédictions probabilistes.\n",
        "\n",
        "On peut dire que le modèle génère des distributions de probabilités qui servent de \"recette\" pour créer de nouvelles données. C'est cette \"recette\" qui est apprise pendant l'entraînement, et qui permet au modèle de générer des données similaires à celles qu'il a vues."
      ],
      "metadata": {
        "id": "N7XmgubfBui-"
      }
    },
    {
      "cell_type": "markdown",
      "source": [
        "\n",
        "\n",
        "---\n",
        "\n"
      ],
      "metadata": {
        "id": "WFFLYw6jDg-N"
      }
    },
    {
      "cell_type": "code",
      "source": [
        "np.random.seed(101)\n",
        "print(np.random.randint(0,100,10))"
      ],
      "metadata": {
        "colab": {
          "base_uri": "https://localhost:8080/"
        },
        "id": "JKdd9fs53b-v",
        "outputId": "49a8c430-c824-43dd-9f18-08a08fc6e62b"
      },
      "execution_count": null,
      "outputs": [
        {
          "output_type": "stream",
          "name": "stdout",
          "text": [
            "[95 11 81 70 63 87 75  9 77 40]\n",
            "[ 4 63 40 60 92 64  5 12 93 40]\n"
          ]
        }
      ]
    },
    {
      "cell_type": "markdown",
      "source": [
        "`seed()` : est utilisée pour \"amorcer\" le générateur de nombres aléatoires. Imaginez que vous plantez une graine spécifique pour une plante - cela garantit que vous obtenez la même plante (ou dans ce cas, la même séquence de nombres aléatoires) chaque fois que vous utilisez cette graine.\n",
        "\n",
        "Ici, `101` est la valeur de la graine. En définissant la graine sur `101`, nous nous assurons que la génération de nombres aléatoires suivante produira toujours la même séquence de nombres. Ceci est utile pour la reproductibilité, ce qui signifie que si quelqu'un d'autre exécute le même code avec la même graine, il obtiendra les mêmes résultats \"aléatoires\".\n",
        "\n",
        "`print(np.random.randint(0,100,10))` génère puis affiche une séquence de nombres entiers aléatoires.\n",
        "\n",
        "Ainsi, cette ligne générera 10 nombres entiers aléatoires entre 0 (inclus) et 100 (exclus), puis les affichera sur la console. Étant donné que nous avons défini la graine avec `np.random.seed(101)` précédemment, ces 10 nombres aléatoires seront toujours les mêmes chaque fois que le code est exécuté.\n",
        "\n",
        "En résumé, ces deux lignes ensemble génèrent une séquence de nombres \"pseudo-aléatoires\". Ils semblent aléatoires, mais ils sont en réalité déterminés par la valeur initiale de la graine. Cela permet d'obtenir des résultats reproductibles lorsque vous travaillez avec l'aléatoire dans votre code."
      ],
      "metadata": {
        "id": "WT3OG8PWEIWg"
      }
    },
    {
      "cell_type": "markdown",
      "source": [
        "\n",
        "\n",
        "---\n",
        "\n"
      ],
      "metadata": {
        "id": "yzZ0jRykE4dr"
      }
    },
    {
      "cell_type": "code",
      "source": [],
      "metadata": {
        "colab": {
          "base_uri": "https://localhost:8080/"
        },
        "id": "feM-hQbQ3stQ",
        "outputId": "de30031a-d419-408b-c110-16a42aab3164"
      },
      "execution_count": null,
      "outputs": [
        {
          "output_type": "execute_result",
          "data": {
            "text/plain": [
              "array([ 4, 63, 40, 60, 92, 64,  5, 12, 93, 40])"
            ]
          },
          "metadata": {},
          "execution_count": 25
        }
      ]
    },
    {
      "cell_type": "code",
      "source": [],
      "metadata": {
        "colab": {
          "base_uri": "https://localhost:8080/"
        },
        "id": "HHa1b2y2313d",
        "outputId": "f101b17d-5f75-43ca-d043-9aa295724337"
      },
      "execution_count": null,
      "outputs": [
        {
          "output_type": "execute_result",
          "data": {
            "text/plain": [
              "array([1, 2, 3])"
            ]
          },
          "metadata": {},
          "execution_count": 29
        }
      ]
    },
    {
      "cell_type": "markdown",
      "source": [
        "##### 3"
      ],
      "metadata": {
        "id": "h99GuQG_E_0y"
      }
    },
    {
      "cell_type": "code",
      "source": [],
      "metadata": {
        "colab": {
          "base_uri": "https://localhost:8080/"
        },
        "id": "cq2y9JnO4CwX",
        "outputId": "69a7a43a-c1c8-48bf-8f9c-a5444ffe3b42"
      },
      "execution_count": null,
      "outputs": [
        {
          "output_type": "execute_result",
          "data": {
            "text/plain": [
              "3"
            ]
          },
          "metadata": {},
          "execution_count": 30
        }
      ]
    },
    {
      "cell_type": "markdown",
      "source": [
        "##### 1"
      ],
      "metadata": {
        "id": "xblTcZhSFC-E"
      }
    },
    {
      "cell_type": "code",
      "source": [],
      "metadata": {
        "colab": {
          "base_uri": "https://localhost:8080/"
        },
        "id": "sYxZ552v4EWo",
        "outputId": "8bd74264-08b5-4ba2-beb3-4ee5d99c9eaa"
      },
      "execution_count": null,
      "outputs": [
        {
          "output_type": "execute_result",
          "data": {
            "text/plain": [
              "1"
            ]
          },
          "metadata": {},
          "execution_count": 31
        }
      ]
    },
    {
      "cell_type": "markdown",
      "source": [
        "##### 2.0"
      ],
      "metadata": {
        "id": "5kjOwjM3FTS1"
      }
    },
    {
      "cell_type": "code",
      "source": [],
      "metadata": {
        "colab": {
          "base_uri": "https://localhost:8080/"
        },
        "id": "ulSalVVj4FhE",
        "outputId": "7940f77c-fe79-4709-aed7-85bb30664630"
      },
      "execution_count": null,
      "outputs": [
        {
          "output_type": "execute_result",
          "data": {
            "text/plain": [
              "2.0"
            ]
          },
          "metadata": {},
          "execution_count": 32
        }
      ]
    },
    {
      "cell_type": "markdown",
      "source": [
        "##### 2"
      ],
      "metadata": {
        "id": "6aFdV4csFVYx"
      }
    },
    {
      "cell_type": "code",
      "source": [],
      "metadata": {
        "colab": {
          "base_uri": "https://localhost:8080/"
        },
        "id": "lBtwI9OT4I8p",
        "outputId": "d8183383-1d55-4a22-94a9-b36a2731b08b"
      },
      "execution_count": null,
      "outputs": [
        {
          "output_type": "execute_result",
          "data": {
            "text/plain": [
              "2"
            ]
          },
          "metadata": {},
          "execution_count": 33
        }
      ]
    },
    {
      "cell_type": "markdown",
      "source": [
        "##### array([1, 2, 3])"
      ],
      "metadata": {
        "id": "Gdf6aMQzFab9"
      }
    },
    {
      "cell_type": "code",
      "source": [],
      "metadata": {
        "colab": {
          "base_uri": "https://localhost:8080/"
        },
        "id": "tacmRj5D4MO0",
        "outputId": "cbe01c15-2630-4115-87f9-6db031c6adc0"
      },
      "execution_count": null,
      "outputs": [
        {
          "output_type": "execute_result",
          "data": {
            "text/plain": [
              "array([1, 2, 3])"
            ]
          },
          "metadata": {},
          "execution_count": 34
        }
      ]
    },
    {
      "cell_type": "code",
      "source": [
        "arr = np.random.randint(0,100,10)"
      ],
      "metadata": {
        "id": "RJLLUY8z4PZa"
      },
      "execution_count": null,
      "outputs": []
    },
    {
      "cell_type": "code",
      "source": [],
      "metadata": {
        "colab": {
          "base_uri": "https://localhost:8080/"
        },
        "id": "9mhfQS7C4mZb",
        "outputId": "bdd12fd1-9488-4521-8114-15ae2cc5a8d0"
      },
      "execution_count": null,
      "outputs": [
        {
          "output_type": "execute_result",
          "data": {
            "text/plain": [
              "array([49, 83,  8, 29, 59, 34, 44, 72, 19, 10])"
            ]
          },
          "metadata": {},
          "execution_count": 36
        }
      ]
    },
    {
      "cell_type": "markdown",
      "source": [
        "##### 83"
      ],
      "metadata": {
        "id": "HfouvTvfFwAo"
      }
    },
    {
      "cell_type": "code",
      "source": [],
      "metadata": {
        "colab": {
          "base_uri": "https://localhost:8080/"
        },
        "id": "Shyy_YxS4o2g",
        "outputId": "2e833eb6-0067-4d06-d1b6-fca24a28ad4d"
      },
      "execution_count": null,
      "outputs": [
        {
          "output_type": "execute_result",
          "data": {
            "text/plain": [
              "83"
            ]
          },
          "metadata": {},
          "execution_count": 37
        }
      ]
    },
    {
      "cell_type": "markdown",
      "source": [
        "##### 8"
      ],
      "metadata": {
        "id": "Cn7le5PcFzxT"
      }
    },
    {
      "cell_type": "code",
      "source": [],
      "metadata": {
        "colab": {
          "base_uri": "https://localhost:8080/"
        },
        "id": "VQ2Pi_PK4q6o",
        "outputId": "71c3530a-a07e-4ad7-b78d-3146c64d8d5d"
      },
      "execution_count": null,
      "outputs": [
        {
          "output_type": "execute_result",
          "data": {
            "text/plain": [
              "8"
            ]
          },
          "metadata": {},
          "execution_count": 38
        }
      ]
    },
    {
      "cell_type": "markdown",
      "source": [
        "##### 40.7"
      ],
      "metadata": {
        "id": "4Kaysw_BF3n8"
      }
    },
    {
      "cell_type": "code",
      "source": [],
      "metadata": {
        "colab": {
          "base_uri": "https://localhost:8080/"
        },
        "id": "c_kXA3aL4sbt",
        "outputId": "7765b0ae-f8dc-482a-bdb8-aa1a09017b17"
      },
      "execution_count": null,
      "outputs": [
        {
          "output_type": "execute_result",
          "data": {
            "text/plain": [
              "40.7"
            ]
          },
          "metadata": {},
          "execution_count": 39
        }
      ]
    },
    {
      "cell_type": "markdown",
      "source": [
        "##### 1"
      ],
      "metadata": {
        "id": "HJCnnkQJGAIe"
      }
    },
    {
      "cell_type": "code",
      "source": [],
      "metadata": {
        "colab": {
          "base_uri": "https://localhost:8080/"
        },
        "id": "8U2lRdM84wCF",
        "outputId": "e6c35fb6-cf77-4d11-ca25-274542aa0d95"
      },
      "execution_count": null,
      "outputs": [
        {
          "output_type": "execute_result",
          "data": {
            "text/plain": [
              "1"
            ]
          },
          "metadata": {},
          "execution_count": 40
        }
      ]
    },
    {
      "cell_type": "markdown",
      "source": [
        "##### array([[49, 83,  8, 29, 59], [34, 44, 72, 19, 10]])"
      ],
      "metadata": {
        "id": "UEp1KZzhGEaJ"
      }
    },
    {
      "cell_type": "code",
      "source": [],
      "metadata": {
        "colab": {
          "base_uri": "https://localhost:8080/"
        },
        "id": "34jX1AEV41Gc",
        "outputId": "b2be71e6-945b-4e4b-c1cf-e9bcfde2a7e4"
      },
      "execution_count": null,
      "outputs": [
        {
          "output_type": "execute_result",
          "data": {
            "text/plain": [
              "array([[49, 83,  8, 29, 59],\n",
              "       [34, 44, 72, 19, 10]])"
            ]
          },
          "metadata": {},
          "execution_count": 41
        }
      ]
    },
    {
      "cell_type": "markdown",
      "source": [
        "##### array([[ 0,  1,  2,  3,  4,  5,  6,  7,  8,  9], [10, 11, 12, 13, 14, 15, 16, 17, 18, 19], [20, 21, 22, 23, 24, 25, 26, 27, 28, 29], [30, 31, 32, 33, 34, 35, 36, 37, 38, 39], [40, 41, 42, 43, 44, 45, 46, 47, 48, 49], [50, 51, 52, 53, 54, 55, 56, 57, 58, 59], [60, 61, 62, 63, 64, 65, 66, 67, 68, 69], [70, 71, 72, 73, 74, 75, 76, 77, 78, 79], [80, 81, 82, 83, 84, 85, 86, 87, 88, 89], [90, 91, 92, 93, 94, 95, 96, 97,98, 99]])"
      ],
      "metadata": {
        "id": "vk7dD57PGOYq"
      }
    },
    {
      "cell_type": "code",
      "source": [
        "mat = np.arange(0,100).reshape(10,10)"
      ],
      "metadata": {
        "id": "l1qzt08648zA"
      },
      "execution_count": null,
      "outputs": []
    },
    {
      "cell_type": "code",
      "source": [],
      "metadata": {
        "colab": {
          "base_uri": "https://localhost:8080/"
        },
        "id": "cHdHAe485FCS",
        "outputId": "3841c8f4-1799-4d2f-f628-ea95f1c839bf"
      },
      "execution_count": null,
      "outputs": [
        {
          "output_type": "execute_result",
          "data": {
            "text/plain": [
              "array([[ 0,  1,  2,  3,  4,  5,  6,  7,  8,  9],\n",
              "       [10, 11, 12, 13, 14, 15, 16, 17, 18, 19],\n",
              "       [20, 21, 22, 23, 24, 25, 26, 27, 28, 29],\n",
              "       [30, 31, 32, 33, 34, 35, 36, 37, 38, 39],\n",
              "       [40, 41, 42, 43, 44, 45, 46, 47, 48, 49],\n",
              "       [50, 51, 52, 53, 54, 55, 56, 57, 58, 59],\n",
              "       [60, 61, 62, 63, 64, 65, 66, 67, 68, 69],\n",
              "       [70, 71, 72, 73, 74, 75, 76, 77, 78, 79],\n",
              "       [80, 81, 82, 83, 84, 85, 86, 87, 88, 89],\n",
              "       [90, 91, 92, 93, 94, 95, 96, 97, 98, 99]])"
            ]
          },
          "metadata": {},
          "execution_count": 43
        }
      ]
    },
    {
      "cell_type": "markdown",
      "source": [
        "##### 1"
      ],
      "metadata": {
        "id": "NIbtFGKDGsXg"
      }
    },
    {
      "cell_type": "code",
      "source": [],
      "metadata": {
        "colab": {
          "base_uri": "https://localhost:8080/"
        },
        "id": "uOWkplLd5GDq",
        "outputId": "d835f159-0a3c-449b-9a3d-7286970efe84"
      },
      "execution_count": null,
      "outputs": [
        {
          "output_type": "execute_result",
          "data": {
            "text/plain": [
              "1"
            ]
          },
          "metadata": {},
          "execution_count": 44
        }
      ]
    },
    {
      "cell_type": "markdown",
      "source": [
        "##### 3"
      ],
      "metadata": {
        "id": "GnhJ2bOjGuPV"
      }
    },
    {
      "cell_type": "code",
      "source": [],
      "metadata": {
        "colab": {
          "base_uri": "https://localhost:8080/"
        },
        "id": "QKfeDzdb5L49",
        "outputId": "6182d71a-77cd-44ff-fd65-58620da899c4"
      },
      "execution_count": null,
      "outputs": [
        {
          "output_type": "execute_result",
          "data": {
            "text/plain": [
              "3"
            ]
          },
          "metadata": {},
          "execution_count": 46
        }
      ]
    },
    {
      "cell_type": "markdown",
      "source": [
        "##### array([ 0, 10, 20, 30, 40, 50, 60, 70, 80, 90])"
      ],
      "metadata": {
        "id": "kkJrReXYG5I3"
      }
    },
    {
      "cell_type": "code",
      "source": [],
      "metadata": {
        "colab": {
          "base_uri": "https://localhost:8080/"
        },
        "id": "cEIWhRwN5QkD",
        "outputId": "9da529fa-c09e-4b7c-ec6d-404a67c62e50"
      },
      "execution_count": null,
      "outputs": [
        {
          "output_type": "execute_result",
          "data": {
            "text/plain": [
              "array([ 0, 10, 20, 30, 40, 50, 60, 70, 80, 90])"
            ]
          },
          "metadata": {},
          "execution_count": 47
        }
      ]
    },
    {
      "cell_type": "markdown",
      "source": [
        "##### array([50, 51, 52, 53, 54, 55, 56, 57, 58, 59])"
      ],
      "metadata": {
        "id": "hj5VQsNoHB2Y"
      }
    },
    {
      "cell_type": "code",
      "source": [],
      "metadata": {
        "colab": {
          "base_uri": "https://localhost:8080/"
        },
        "id": "e8JRO6aZ5g9_",
        "outputId": "4bb0831b-5cbe-4225-a650-963ad4e67731"
      },
      "execution_count": null,
      "outputs": [
        {
          "output_type": "execute_result",
          "data": {
            "text/plain": [
              "array([50, 51, 52, 53, 54, 55, 56, 57, 58, 59])"
            ]
          },
          "metadata": {},
          "execution_count": 48
        }
      ]
    },
    {
      "cell_type": "code",
      "source": [],
      "metadata": {
        "colab": {
          "base_uri": "https://localhost:8080/"
        },
        "id": "CzsfHwER5k2-",
        "outputId": "811792c6-e315-4b54-cd7e-6aaed43fe815"
      },
      "execution_count": null,
      "outputs": [
        {
          "output_type": "execute_result",
          "data": {
            "text/plain": [
              "array([[ 0,  1,  2,  3,  4,  5,  6,  7,  8,  9],\n",
              "       [10, 11, 12, 13, 14, 15, 16, 17, 18, 19],\n",
              "       [20, 21, 22, 23, 24, 25, 26, 27, 28, 29],\n",
              "       [30, 31, 32, 33, 34, 35, 36, 37, 38, 39],\n",
              "       [40, 41, 42, 43, 44, 45, 46, 47, 48, 49],\n",
              "       [50, 51, 52, 53, 54, 55, 56, 57, 58, 59],\n",
              "       [60, 61, 62, 63, 64, 65, 66, 67, 68, 69],\n",
              "       [70, 71, 72, 73, 74, 75, 76, 77, 78, 79],\n",
              "       [80, 81, 82, 83, 84, 85, 86, 87, 88, 89],\n",
              "       [90, 91, 92, 93, 94, 95, 96, 97, 98, 99]])"
            ]
          },
          "metadata": {},
          "execution_count": 49
        }
      ]
    },
    {
      "cell_type": "markdown",
      "source": [
        "##### array([[ 0,  1,  2], [10, 11, 12], [20, 21, 22]])"
      ],
      "metadata": {
        "id": "KmlNPWoRHLV0"
      }
    },
    {
      "cell_type": "code",
      "source": [],
      "metadata": {
        "colab": {
          "base_uri": "https://localhost:8080/"
        },
        "id": "RHIf-gAJ5sam",
        "outputId": "f7783ead-4206-4074-fdb9-4af89e93bbfa"
      },
      "execution_count": null,
      "outputs": [
        {
          "output_type": "execute_result",
          "data": {
            "text/plain": [
              "array([[ 0,  1,  2],\n",
              "       [10, 11, 12],\n",
              "       [20, 21, 22]])"
            ]
          },
          "metadata": {},
          "execution_count": 50
        }
      ]
    },
    {
      "cell_type": "code",
      "source": [],
      "metadata": {
        "colab": {
          "base_uri": "https://localhost:8080/"
        },
        "id": "4y78rVzI50mJ",
        "outputId": "49d8b2f1-153f-46ac-c78e-475df5a45a1b"
      },
      "execution_count": null,
      "outputs": [
        {
          "output_type": "execute_result",
          "data": {
            "text/plain": [
              "array([[ 0,  1,  2,  3,  4,  5,  6,  7,  8,  9],\n",
              "       [10, 11, 12, 13, 14, 15, 16, 17, 18, 19],\n",
              "       [20, 21, 22, 23, 24, 25, 26, 27, 28, 29],\n",
              "       [30, 31, 32, 33, 34, 35, 36, 37, 38, 39],\n",
              "       [40, 41, 42, 43, 44, 45, 46, 47, 48, 49],\n",
              "       [50, 51, 52, 53, 54, 55, 56, 57, 58, 59],\n",
              "       [60, 61, 62, 63, 64, 65, 66, 67, 68, 69],\n",
              "       [70, 71, 72, 73, 74, 75, 76, 77, 78, 79],\n",
              "       [80, 81, 82, 83, 84, 85, 86, 87, 88, 89],\n",
              "       [90, 91, 92, 93, 94, 95, 96, 97, 98, 99]])"
            ]
          },
          "metadata": {},
          "execution_count": 51
        }
      ]
    },
    {
      "cell_type": "code",
      "source": [
        "mat > 50"
      ],
      "metadata": {
        "colab": {
          "base_uri": "https://localhost:8080/"
        },
        "id": "7A-dVbqU57iF",
        "outputId": "9c95adc8-9b58-4fd9-cf5c-71136323ed46"
      },
      "execution_count": null,
      "outputs": [
        {
          "output_type": "execute_result",
          "data": {
            "text/plain": [
              "array([[False, False, False, False, False, False, False, False, False,\n",
              "        False],\n",
              "       [False, False, False, False, False, False, False, False, False,\n",
              "        False],\n",
              "       [False, False, False, False, False, False, False, False, False,\n",
              "        False],\n",
              "       [False, False, False, False, False, False, False, False, False,\n",
              "        False],\n",
              "       [False, False, False, False, False, False, False, False, False,\n",
              "        False],\n",
              "       [False,  True,  True,  True,  True,  True,  True,  True,  True,\n",
              "         True],\n",
              "       [ True,  True,  True,  True,  True,  True,  True,  True,  True,\n",
              "         True],\n",
              "       [ True,  True,  True,  True,  True,  True,  True,  True,  True,\n",
              "         True],\n",
              "       [ True,  True,  True,  True,  True,  True,  True,  True,  True,\n",
              "         True],\n",
              "       [ True,  True,  True,  True,  True,  True,  True,  True,  True,\n",
              "         True]])"
            ]
          },
          "metadata": {},
          "execution_count": 52
        }
      ]
    },
    {
      "cell_type": "code",
      "source": [
        "my_filter = mat > 50"
      ],
      "metadata": {
        "id": "j1ldYBcW5-Os"
      },
      "execution_count": null,
      "outputs": []
    },
    {
      "cell_type": "code",
      "source": [
        "# @title\n",
        "mat[my_filter]"
      ],
      "metadata": {
        "colab": {
          "base_uri": "https://localhost:8080/"
        },
        "id": "G96qOip06E2x",
        "outputId": "2ce0c7c5-77a4-46bf-b6df-671b5beced4e",
        "cellView": "form"
      },
      "execution_count": null,
      "outputs": [
        {
          "output_type": "execute_result",
          "data": {
            "text/plain": [
              "array([51, 52, 53, 54, 55, 56, 57, 58, 59, 60, 61, 62, 63, 64, 65, 66, 67,\n",
              "       68, 69, 70, 71, 72, 73, 74, 75, 76, 77, 78, 79, 80, 81, 82, 83, 84,\n",
              "       85, 86, 87, 88, 89, 90, 91, 92, 93, 94, 95, 96, 97, 98, 99])"
            ]
          },
          "metadata": {},
          "execution_count": 54
        }
      ]
    }
  ]
}