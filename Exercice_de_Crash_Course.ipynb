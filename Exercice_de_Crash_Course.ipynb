{
  "nbformat": 4,
  "nbformat_minor": 0,
  "metadata": {
    "colab": {
      "provenance": [],
      "authorship_tag": "ABX9TyO8WDo8G3vu01o5vqXBCnjJ",
      "include_colab_link": true
    },
    "kernelspec": {
      "name": "python3",
      "display_name": "Python 3"
    },
    "language_info": {
      "name": "python"
    }
  },
  "cells": [
    {
      "cell_type": "markdown",
      "metadata": {
        "id": "view-in-github",
        "colab_type": "text"
      },
      "source": [
        "<a href=\"https://colab.research.google.com/github/neohack22/Datascience-Seminaire-Exercices/blob/main/Exercice_de_Crash_Course.ipynb\" target=\"_parent\"><img src=\"https://colab.research.google.com/assets/colab-badge.svg\" alt=\"Open In Colab\"/></a>"
      ]
    },
    {
      "cell_type": "markdown",
      "source": [
        "Importer la librairie `numpy` et lui donne l'alias `np`."
      ],
      "metadata": {
        "id": "7lgAcfkyGbhN"
      }
    },
    {
      "cell_type": "code",
      "execution_count": null,
      "metadata": {
        "id": "uKCiW3rL1G_r"
      },
      "outputs": [],
      "source": []
    },
    {
      "cell_type": "markdown",
      "source": [
        "Importer l'outil `MinMaxScaler` qui se trouve dans la librairie `sklearn`, afin que vous puissiez l'utiliser pour mettre à l'échelle les données dans votre projet de Machine Learning."
      ],
      "metadata": {
        "id": "uTOWgy9IGLuR"
      }
    },
    {
      "cell_type": "code",
      "source": [],
      "metadata": {
        "id": "g3XPOk-t1SUs"
      },
      "execution_count": null,
      "outputs": []
    },
    {
      "cell_type": "markdown",
      "source": [
        "En utilisant `numpy`, générez un jeu de données aléatoire nommé `data` qui contient 10 observations, chacune avec 2 caractéristiques. Les valeurs des caractéristiques doivent être des nombres entiers entre 0 et 99 (inclus)."
      ],
      "metadata": {
        "id": "Qqu24od9HII4"
      }
    },
    {
      "cell_type": "code",
      "source": [],
      "metadata": {
        "id": "IlwLlp_C1VUF"
      },
      "execution_count": null,
      "outputs": []
    },
    {
      "cell_type": "code",
      "source": [
        "data"
      ],
      "metadata": {
        "colab": {
          "base_uri": "https://localhost:8080/"
        },
        "id": "VUjhZwNl1jKV",
        "outputId": "0058b31e-7acb-4398-f267-d2ac11a601b1"
      },
      "execution_count": null,
      "outputs": [
        {
          "output_type": "execute_result",
          "data": {
            "text/plain": [
              "array([[72, 53],\n",
              "       [50, 92],\n",
              "       [73, 70],\n",
              "       [34, 38],\n",
              "       [ 4, 93],\n",
              "       [83, 90],\n",
              "       [48, 43],\n",
              "       [13, 88],\n",
              "       [68, 23],\n",
              "       [28, 73]])"
            ]
          },
          "metadata": {},
          "execution_count": 6
        }
      ]
    },
    {
      "cell_type": "code",
      "source": [
        "scaler_model = MinMaxScaler()"
      ],
      "metadata": {
        "id": "M9rgzC3f1rgl"
      },
      "execution_count": null,
      "outputs": []
    },
    {
      "cell_type": "code",
      "source": [
        "type(scaler_model)"
      ],
      "metadata": {
        "colab": {
          "base_uri": "https://localhost:8080/"
        },
        "id": "sJIsBW1a10VR",
        "outputId": "15352a45-1024-4fad-cd48-13055befa6d3"
      },
      "execution_count": null,
      "outputs": [
        {
          "output_type": "execute_result",
          "data": {
            "text/plain": [
              "sklearn.preprocessing._data.MinMaxScaler"
            ]
          },
          "metadata": {},
          "execution_count": 8
        }
      ]
    },
    {
      "cell_type": "code",
      "source": [
        "scaler_model.fit(data)"
      ],
      "metadata": {
        "colab": {
          "base_uri": "https://localhost:8080/"
        },
        "id": "RRSQkpE212EQ",
        "outputId": "45d5ea51-d7c4-446d-e991-dfa8372b8975"
      },
      "execution_count": null,
      "outputs": [
        {
          "output_type": "execute_result",
          "data": {
            "text/plain": [
              "MinMaxScaler()"
            ]
          },
          "metadata": {},
          "execution_count": 9
        }
      ]
    },
    {
      "cell_type": "markdown",
      "source": [
        "*  `scaler_model` est l'objet que nous avons créé précédemment pour effectuer la mise à l'échelle.\n",
        "*  `fit` est une méthode (fonction) de l'objet `MinMaxScaler`. C'est l'étape où le scaler calcule les informations nécessaires à la mise à l'échelle.\n",
        "*  `data`: Ce sont les données d'entrée fournies à la méthode `fit`. Le scaler apprendra les valeurs minimales et maximales à partir de ces données.\n",
        "\n",
        "Imaginez que vous souhaitiez mettre à l'échelle les notes d'examen pour qu'elles soient comprises entre 0 et 1. Vous auriez d'abord besoin de connaître les notes les plus basses et les plus élevées de la classe.\n",
        "\n",
        "`scaler_model.fit(data)` est comme l'étape où vous trouvez ces notes les plus basses et les plus élevées. Le `scaler_model` \"sait\" maintenant comment mettre à l'échelle les données futures en fonction de ces valeurs apprises."
      ],
      "metadata": {
        "id": "TTLUklAO6S6Q"
      }
    },
    {
      "cell_type": "code",
      "source": [
        "scaler_model.transform(data)"
      ],
      "metadata": {
        "colab": {
          "base_uri": "https://localhost:8080/"
        },
        "id": "8OftThWW147K",
        "outputId": "871ca83e-4b61-43f4-f369-46f58f408bb3"
      },
      "execution_count": null,
      "outputs": [
        {
          "output_type": "execute_result",
          "data": {
            "text/plain": [
              "array([[0.86075949, 0.42857143],\n",
              "       [0.58227848, 0.98571429],\n",
              "       [0.87341772, 0.67142857],\n",
              "       [0.37974684, 0.21428571],\n",
              "       [0.        , 1.        ],\n",
              "       [1.        , 0.95714286],\n",
              "       [0.55696203, 0.28571429],\n",
              "       [0.11392405, 0.92857143],\n",
              "       [0.81012658, 0.        ],\n",
              "       [0.30379747, 0.71428571]])"
            ]
          },
          "metadata": {},
          "execution_count": 10
        }
      ]
    },
    {
      "cell_type": "markdown",
      "source": [
        "Cette ligne prend vos données `data` et les transforme en appliquant la mise à l'échelle que le `scaler_model` a apprise précédemment. Les valeurs de chaque colonne dans `data` seront ajustées pour se situer dans la plage spécifiée lors de la création du `MinMaxScaler` (par défaut, entre 0 et 1)."
      ],
      "metadata": {
        "id": "iAa1UOsp-tDz"
      }
    },
    {
      "cell_type": "code",
      "source": [
        "scaler_model.fit_transform(data)"
      ],
      "metadata": {
        "colab": {
          "base_uri": "https://localhost:8080/"
        },
        "id": "VCUuuNBw1-6G",
        "outputId": "71630872-68b0-4148-ad4e-4da3e887a2cc"
      },
      "execution_count": null,
      "outputs": [
        {
          "output_type": "execute_result",
          "data": {
            "text/plain": [
              "array([[0.86075949, 0.42857143],\n",
              "       [0.58227848, 0.98571429],\n",
              "       [0.87341772, 0.67142857],\n",
              "       [0.37974684, 0.21428571],\n",
              "       [0.        , 1.        ],\n",
              "       [1.        , 0.95714286],\n",
              "       [0.55696203, 0.28571429],\n",
              "       [0.11392405, 0.92857143],\n",
              "       [0.81012658, 0.        ],\n",
              "       [0.30379747, 0.71428571]])"
            ]
          },
          "metadata": {},
          "execution_count": 12
        }
      ]
    },
    {
      "cell_type": "markdown",
      "source": [
        "C'est un moyen d'adapter le scaler à vos données et de les transformer en une seule fois, plutôt que de le faire en deux étapes distinctes. C'est plus efficace et couramment utilisé lorsque vous souhaitez mettre à l'échelle vos données immédiatement après que le scaler a appris les informations nécessaires."
      ],
      "metadata": {
        "id": "C_EZ03z18oCQ"
      }
    },
    {
      "cell_type": "code",
      "source": [
        "import pandas as pd"
      ],
      "metadata": {
        "id": "AYo8KuAr2Gqh"
      },
      "execution_count": null,
      "outputs": []
    },
    {
      "cell_type": "markdown",
      "source": [
        "Nous avons besoin d'un jeu de données plus grand pour notre projet. Comment utiliseriez-vous `numpy` pour créer un tableau appelé `mydata` avec 50 observations et 4 caractéristiques, où chaque caractéristique est un entier aléatoire entre 0 et 100 (inclus) ?"
      ],
      "metadata": {
        "id": "jj-MjiHCIPyo"
      }
    },
    {
      "cell_type": "code",
      "source": [],
      "metadata": {
        "id": "G27CEWEn2vmY"
      },
      "execution_count": null,
      "outputs": []
    },
    {
      "cell_type": "code",
      "source": [
        "mydata"
      ],
      "metadata": {
        "colab": {
          "base_uri": "https://localhost:8080/"
        },
        "id": "ydqXBT_W22-w",
        "outputId": "8d6e5cae-b16d-4de1-aa84-9e7784420a99"
      },
      "execution_count": null,
      "outputs": [
        {
          "output_type": "execute_result",
          "data": {
            "text/plain": [
              "array([[ 65,  70,  58,  68],\n",
              "       [ 57,  87,  61,  14],\n",
              "       [ 18,  70,  26,  14],\n",
              "       [ 80,  25,  25,  63],\n",
              "       [ 21,  27,  84,  50],\n",
              "       [ 75,  11,  37,  45],\n",
              "       [ 26,  75,  69,  59],\n",
              "       [ 45,  27,  75,  90],\n",
              "       [100,   6,  86,  68],\n",
              "       [ 68,  89,  47,  11],\n",
              "       [ 11,   3,  82,  47],\n",
              "       [ 18,  24,  70,  45],\n",
              "       [ 85,  61,  45,  57],\n",
              "       [  7,  26,  29,  82],\n",
              "       [ 97,  26,  54,  47],\n",
              "       [ 84,  49,  27,  21],\n",
              "       [ 19,  10,  15,  94],\n",
              "       [ 19,  45,  85,  71],\n",
              "       [100,  51,  13,  93],\n",
              "       [ 65,  35,  23,  21],\n",
              "       [  7,  80, 100,  91],\n",
              "       [ 57,  24,  74,  94],\n",
              "       [ 22,   7,  45,  64],\n",
              "       [ 66,  71,  39,  53],\n",
              "       [ 26,  93,  30,  73],\n",
              "       [ 34,   8,  78,  12],\n",
              "       [  2,  59,  39,  62],\n",
              "       [  2,  88,  64,  14],\n",
              "       [ 94,  21,  77,  88],\n",
              "       [ 98,  34,  15,  66],\n",
              "       [ 27,  58,  45,  90],\n",
              "       [ 70,  92,  24,  93],\n",
              "       [ 37,  82,  15,  21],\n",
              "       [ 80,  54,  49,  37],\n",
              "       [ 62,  30,  44,  12],\n",
              "       [ 57,  30,  43, 100],\n",
              "       [ 36,  50,  48,  63],\n",
              "       [ 34,   3,  99,  98],\n",
              "       [ 74,  14,   1,  71],\n",
              "       [  5,  54,  25,  79],\n",
              "       [ 80,  52,  42,   6],\n",
              "       [ 11,  55,   1,   9],\n",
              "       [ 38,  16,  44,  94],\n",
              "       [ 69,  26,  93,  58],\n",
              "       [ 80,  62,  43,  62],\n",
              "       [ 61,  44,  62,  46],\n",
              "       [  9,  97,  27,  49],\n",
              "       [ 82,  69,  63,   6],\n",
              "       [ 36,  43,  13,  35],\n",
              "       [ 26,  38,  33,   1]])"
            ]
          },
          "metadata": {},
          "execution_count": 16
        }
      ]
    },
    {
      "cell_type": "code",
      "source": [
        "df = pd.DataFrame(data=mydata, columns = ['f1', 'f2', 'f3', 'label'])"
      ],
      "metadata": {
        "id": "1ty4eOID2jHU"
      },
      "execution_count": null,
      "outputs": []
    },
    {
      "cell_type": "markdown",
      "source": [
        "Cette ligne de code prend les données numériques de mydata et les organise dans un tableau structuré (le DataFrame) avec des colonnes nommées 'f1', 'f2', 'f3' et 'label'.\n",
        "\n",
        "En d'autres termes, on donne des étiquettes aux différentes \"catégories\" de données contenues dans mydata.\n",
        "\n",
        "Imaginez un tableur Excel : `mydata` serait les données brutes dans les cellules, et `df` serait le tableur complet avec des en-têtes de colonnes pour organiser et comprendre les données."
      ],
      "metadata": {
        "id": "-yTN4Z6n_GOO"
      }
    },
    {
      "cell_type": "code",
      "source": [
        "df"
      ],
      "metadata": {
        "colab": {
          "base_uri": "https://localhost:8080/",
          "height": 1000
        },
        "id": "mOOBWwp827fP",
        "outputId": "75e889cb-d59c-46ce-8f7b-9e3aee8053e0"
      },
      "execution_count": null,
      "outputs": [
        {
          "output_type": "execute_result",
          "data": {
            "text/plain": [
              "     f1  f2   f3  label\n",
              "0    65  70   58     68\n",
              "1    57  87   61     14\n",
              "2    18  70   26     14\n",
              "3    80  25   25     63\n",
              "4    21  27   84     50\n",
              "5    75  11   37     45\n",
              "6    26  75   69     59\n",
              "7    45  27   75     90\n",
              "8   100   6   86     68\n",
              "9    68  89   47     11\n",
              "10   11   3   82     47\n",
              "11   18  24   70     45\n",
              "12   85  61   45     57\n",
              "13    7  26   29     82\n",
              "14   97  26   54     47\n",
              "15   84  49   27     21\n",
              "16   19  10   15     94\n",
              "17   19  45   85     71\n",
              "18  100  51   13     93\n",
              "19   65  35   23     21\n",
              "20    7  80  100     91\n",
              "21   57  24   74     94\n",
              "22   22   7   45     64\n",
              "23   66  71   39     53\n",
              "24   26  93   30     73\n",
              "25   34   8   78     12\n",
              "26    2  59   39     62\n",
              "27    2  88   64     14\n",
              "28   94  21   77     88\n",
              "29   98  34   15     66\n",
              "30   27  58   45     90\n",
              "31   70  92   24     93\n",
              "32   37  82   15     21\n",
              "33   80  54   49     37\n",
              "34   62  30   44     12\n",
              "35   57  30   43    100\n",
              "36   36  50   48     63\n",
              "37   34   3   99     98\n",
              "38   74  14    1     71\n",
              "39    5  54   25     79\n",
              "40   80  52   42      6\n",
              "41   11  55    1      9\n",
              "42   38  16   44     94\n",
              "43   69  26   93     58\n",
              "44   80  62   43     62\n",
              "45   61  44   62     46\n",
              "46    9  97   27     49\n",
              "47   82  69   63      6\n",
              "48   36  43   13     35\n",
              "49   26  38   33      1"
            ],
            "text/html": [
              "\n",
              "  <div id=\"df-f0264839-894b-4504-a26b-5dd47d54a0fa\">\n",
              "    <div class=\"colab-df-container\">\n",
              "      <div>\n",
              "<style scoped>\n",
              "    .dataframe tbody tr th:only-of-type {\n",
              "        vertical-align: middle;\n",
              "    }\n",
              "\n",
              "    .dataframe tbody tr th {\n",
              "        vertical-align: top;\n",
              "    }\n",
              "\n",
              "    .dataframe thead th {\n",
              "        text-align: right;\n",
              "    }\n",
              "</style>\n",
              "<table border=\"1\" class=\"dataframe\">\n",
              "  <thead>\n",
              "    <tr style=\"text-align: right;\">\n",
              "      <th></th>\n",
              "      <th>f1</th>\n",
              "      <th>f2</th>\n",
              "      <th>f3</th>\n",
              "      <th>label</th>\n",
              "    </tr>\n",
              "  </thead>\n",
              "  <tbody>\n",
              "    <tr>\n",
              "      <th>0</th>\n",
              "      <td>65</td>\n",
              "      <td>70</td>\n",
              "      <td>58</td>\n",
              "      <td>68</td>\n",
              "    </tr>\n",
              "    <tr>\n",
              "      <th>1</th>\n",
              "      <td>57</td>\n",
              "      <td>87</td>\n",
              "      <td>61</td>\n",
              "      <td>14</td>\n",
              "    </tr>\n",
              "    <tr>\n",
              "      <th>2</th>\n",
              "      <td>18</td>\n",
              "      <td>70</td>\n",
              "      <td>26</td>\n",
              "      <td>14</td>\n",
              "    </tr>\n",
              "    <tr>\n",
              "      <th>3</th>\n",
              "      <td>80</td>\n",
              "      <td>25</td>\n",
              "      <td>25</td>\n",
              "      <td>63</td>\n",
              "    </tr>\n",
              "    <tr>\n",
              "      <th>4</th>\n",
              "      <td>21</td>\n",
              "      <td>27</td>\n",
              "      <td>84</td>\n",
              "      <td>50</td>\n",
              "    </tr>\n",
              "    <tr>\n",
              "      <th>5</th>\n",
              "      <td>75</td>\n",
              "      <td>11</td>\n",
              "      <td>37</td>\n",
              "      <td>45</td>\n",
              "    </tr>\n",
              "    <tr>\n",
              "      <th>6</th>\n",
              "      <td>26</td>\n",
              "      <td>75</td>\n",
              "      <td>69</td>\n",
              "      <td>59</td>\n",
              "    </tr>\n",
              "    <tr>\n",
              "      <th>7</th>\n",
              "      <td>45</td>\n",
              "      <td>27</td>\n",
              "      <td>75</td>\n",
              "      <td>90</td>\n",
              "    </tr>\n",
              "    <tr>\n",
              "      <th>8</th>\n",
              "      <td>100</td>\n",
              "      <td>6</td>\n",
              "      <td>86</td>\n",
              "      <td>68</td>\n",
              "    </tr>\n",
              "    <tr>\n",
              "      <th>9</th>\n",
              "      <td>68</td>\n",
              "      <td>89</td>\n",
              "      <td>47</td>\n",
              "      <td>11</td>\n",
              "    </tr>\n",
              "    <tr>\n",
              "      <th>10</th>\n",
              "      <td>11</td>\n",
              "      <td>3</td>\n",
              "      <td>82</td>\n",
              "      <td>47</td>\n",
              "    </tr>\n",
              "    <tr>\n",
              "      <th>11</th>\n",
              "      <td>18</td>\n",
              "      <td>24</td>\n",
              "      <td>70</td>\n",
              "      <td>45</td>\n",
              "    </tr>\n",
              "    <tr>\n",
              "      <th>12</th>\n",
              "      <td>85</td>\n",
              "      <td>61</td>\n",
              "      <td>45</td>\n",
              "      <td>57</td>\n",
              "    </tr>\n",
              "    <tr>\n",
              "      <th>13</th>\n",
              "      <td>7</td>\n",
              "      <td>26</td>\n",
              "      <td>29</td>\n",
              "      <td>82</td>\n",
              "    </tr>\n",
              "    <tr>\n",
              "      <th>14</th>\n",
              "      <td>97</td>\n",
              "      <td>26</td>\n",
              "      <td>54</td>\n",
              "      <td>47</td>\n",
              "    </tr>\n",
              "    <tr>\n",
              "      <th>15</th>\n",
              "      <td>84</td>\n",
              "      <td>49</td>\n",
              "      <td>27</td>\n",
              "      <td>21</td>\n",
              "    </tr>\n",
              "    <tr>\n",
              "      <th>16</th>\n",
              "      <td>19</td>\n",
              "      <td>10</td>\n",
              "      <td>15</td>\n",
              "      <td>94</td>\n",
              "    </tr>\n",
              "    <tr>\n",
              "      <th>17</th>\n",
              "      <td>19</td>\n",
              "      <td>45</td>\n",
              "      <td>85</td>\n",
              "      <td>71</td>\n",
              "    </tr>\n",
              "    <tr>\n",
              "      <th>18</th>\n",
              "      <td>100</td>\n",
              "      <td>51</td>\n",
              "      <td>13</td>\n",
              "      <td>93</td>\n",
              "    </tr>\n",
              "    <tr>\n",
              "      <th>19</th>\n",
              "      <td>65</td>\n",
              "      <td>35</td>\n",
              "      <td>23</td>\n",
              "      <td>21</td>\n",
              "    </tr>\n",
              "    <tr>\n",
              "      <th>20</th>\n",
              "      <td>7</td>\n",
              "      <td>80</td>\n",
              "      <td>100</td>\n",
              "      <td>91</td>\n",
              "    </tr>\n",
              "    <tr>\n",
              "      <th>21</th>\n",
              "      <td>57</td>\n",
              "      <td>24</td>\n",
              "      <td>74</td>\n",
              "      <td>94</td>\n",
              "    </tr>\n",
              "    <tr>\n",
              "      <th>22</th>\n",
              "      <td>22</td>\n",
              "      <td>7</td>\n",
              "      <td>45</td>\n",
              "      <td>64</td>\n",
              "    </tr>\n",
              "    <tr>\n",
              "      <th>23</th>\n",
              "      <td>66</td>\n",
              "      <td>71</td>\n",
              "      <td>39</td>\n",
              "      <td>53</td>\n",
              "    </tr>\n",
              "    <tr>\n",
              "      <th>24</th>\n",
              "      <td>26</td>\n",
              "      <td>93</td>\n",
              "      <td>30</td>\n",
              "      <td>73</td>\n",
              "    </tr>\n",
              "    <tr>\n",
              "      <th>25</th>\n",
              "      <td>34</td>\n",
              "      <td>8</td>\n",
              "      <td>78</td>\n",
              "      <td>12</td>\n",
              "    </tr>\n",
              "    <tr>\n",
              "      <th>26</th>\n",
              "      <td>2</td>\n",
              "      <td>59</td>\n",
              "      <td>39</td>\n",
              "      <td>62</td>\n",
              "    </tr>\n",
              "    <tr>\n",
              "      <th>27</th>\n",
              "      <td>2</td>\n",
              "      <td>88</td>\n",
              "      <td>64</td>\n",
              "      <td>14</td>\n",
              "    </tr>\n",
              "    <tr>\n",
              "      <th>28</th>\n",
              "      <td>94</td>\n",
              "      <td>21</td>\n",
              "      <td>77</td>\n",
              "      <td>88</td>\n",
              "    </tr>\n",
              "    <tr>\n",
              "      <th>29</th>\n",
              "      <td>98</td>\n",
              "      <td>34</td>\n",
              "      <td>15</td>\n",
              "      <td>66</td>\n",
              "    </tr>\n",
              "    <tr>\n",
              "      <th>30</th>\n",
              "      <td>27</td>\n",
              "      <td>58</td>\n",
              "      <td>45</td>\n",
              "      <td>90</td>\n",
              "    </tr>\n",
              "    <tr>\n",
              "      <th>31</th>\n",
              "      <td>70</td>\n",
              "      <td>92</td>\n",
              "      <td>24</td>\n",
              "      <td>93</td>\n",
              "    </tr>\n",
              "    <tr>\n",
              "      <th>32</th>\n",
              "      <td>37</td>\n",
              "      <td>82</td>\n",
              "      <td>15</td>\n",
              "      <td>21</td>\n",
              "    </tr>\n",
              "    <tr>\n",
              "      <th>33</th>\n",
              "      <td>80</td>\n",
              "      <td>54</td>\n",
              "      <td>49</td>\n",
              "      <td>37</td>\n",
              "    </tr>\n",
              "    <tr>\n",
              "      <th>34</th>\n",
              "      <td>62</td>\n",
              "      <td>30</td>\n",
              "      <td>44</td>\n",
              "      <td>12</td>\n",
              "    </tr>\n",
              "    <tr>\n",
              "      <th>35</th>\n",
              "      <td>57</td>\n",
              "      <td>30</td>\n",
              "      <td>43</td>\n",
              "      <td>100</td>\n",
              "    </tr>\n",
              "    <tr>\n",
              "      <th>36</th>\n",
              "      <td>36</td>\n",
              "      <td>50</td>\n",
              "      <td>48</td>\n",
              "      <td>63</td>\n",
              "    </tr>\n",
              "    <tr>\n",
              "      <th>37</th>\n",
              "      <td>34</td>\n",
              "      <td>3</td>\n",
              "      <td>99</td>\n",
              "      <td>98</td>\n",
              "    </tr>\n",
              "    <tr>\n",
              "      <th>38</th>\n",
              "      <td>74</td>\n",
              "      <td>14</td>\n",
              "      <td>1</td>\n",
              "      <td>71</td>\n",
              "    </tr>\n",
              "    <tr>\n",
              "      <th>39</th>\n",
              "      <td>5</td>\n",
              "      <td>54</td>\n",
              "      <td>25</td>\n",
              "      <td>79</td>\n",
              "    </tr>\n",
              "    <tr>\n",
              "      <th>40</th>\n",
              "      <td>80</td>\n",
              "      <td>52</td>\n",
              "      <td>42</td>\n",
              "      <td>6</td>\n",
              "    </tr>\n",
              "    <tr>\n",
              "      <th>41</th>\n",
              "      <td>11</td>\n",
              "      <td>55</td>\n",
              "      <td>1</td>\n",
              "      <td>9</td>\n",
              "    </tr>\n",
              "    <tr>\n",
              "      <th>42</th>\n",
              "      <td>38</td>\n",
              "      <td>16</td>\n",
              "      <td>44</td>\n",
              "      <td>94</td>\n",
              "    </tr>\n",
              "    <tr>\n",
              "      <th>43</th>\n",
              "      <td>69</td>\n",
              "      <td>26</td>\n",
              "      <td>93</td>\n",
              "      <td>58</td>\n",
              "    </tr>\n",
              "    <tr>\n",
              "      <th>44</th>\n",
              "      <td>80</td>\n",
              "      <td>62</td>\n",
              "      <td>43</td>\n",
              "      <td>62</td>\n",
              "    </tr>\n",
              "    <tr>\n",
              "      <th>45</th>\n",
              "      <td>61</td>\n",
              "      <td>44</td>\n",
              "      <td>62</td>\n",
              "      <td>46</td>\n",
              "    </tr>\n",
              "    <tr>\n",
              "      <th>46</th>\n",
              "      <td>9</td>\n",
              "      <td>97</td>\n",
              "      <td>27</td>\n",
              "      <td>49</td>\n",
              "    </tr>\n",
              "    <tr>\n",
              "      <th>47</th>\n",
              "      <td>82</td>\n",
              "      <td>69</td>\n",
              "      <td>63</td>\n",
              "      <td>6</td>\n",
              "    </tr>\n",
              "    <tr>\n",
              "      <th>48</th>\n",
              "      <td>36</td>\n",
              "      <td>43</td>\n",
              "      <td>13</td>\n",
              "      <td>35</td>\n",
              "    </tr>\n",
              "    <tr>\n",
              "      <th>49</th>\n",
              "      <td>26</td>\n",
              "      <td>38</td>\n",
              "      <td>33</td>\n",
              "      <td>1</td>\n",
              "    </tr>\n",
              "  </tbody>\n",
              "</table>\n",
              "</div>\n",
              "      <button class=\"colab-df-convert\" onclick=\"convertToInteractive('df-f0264839-894b-4504-a26b-5dd47d54a0fa')\"\n",
              "              title=\"Convert this dataframe to an interactive table.\"\n",
              "              style=\"display:none;\">\n",
              "        \n",
              "  <svg xmlns=\"http://www.w3.org/2000/svg\" height=\"24px\"viewBox=\"0 0 24 24\"\n",
              "       width=\"24px\">\n",
              "    <path d=\"M0 0h24v24H0V0z\" fill=\"none\"/>\n",
              "    <path d=\"M18.56 5.44l.94 2.06.94-2.06 2.06-.94-2.06-.94-.94-2.06-.94 2.06-2.06.94zm-11 1L8.5 8.5l.94-2.06 2.06-.94-2.06-.94L8.5 2.5l-.94 2.06-2.06.94zm10 10l.94 2.06.94-2.06 2.06-.94-2.06-.94-.94-2.06-.94 2.06-2.06.94z\"/><path d=\"M17.41 7.96l-1.37-1.37c-.4-.4-.92-.59-1.43-.59-.52 0-1.04.2-1.43.59L10.3 9.45l-7.72 7.72c-.78.78-.78 2.05 0 2.83L4 21.41c.39.39.9.59 1.41.59.51 0 1.02-.2 1.41-.59l7.78-7.78 2.81-2.81c.8-.78.8-2.07 0-2.86zM5.41 20L4 18.59l7.72-7.72 1.47 1.35L5.41 20z\"/>\n",
              "  </svg>\n",
              "      </button>\n",
              "      \n",
              "  <style>\n",
              "    .colab-df-container {\n",
              "      display:flex;\n",
              "      flex-wrap:wrap;\n",
              "      gap: 12px;\n",
              "    }\n",
              "\n",
              "    .colab-df-convert {\n",
              "      background-color: #E8F0FE;\n",
              "      border: none;\n",
              "      border-radius: 50%;\n",
              "      cursor: pointer;\n",
              "      display: none;\n",
              "      fill: #1967D2;\n",
              "      height: 32px;\n",
              "      padding: 0 0 0 0;\n",
              "      width: 32px;\n",
              "    }\n",
              "\n",
              "    .colab-df-convert:hover {\n",
              "      background-color: #E2EBFA;\n",
              "      box-shadow: 0px 1px 2px rgba(60, 64, 67, 0.3), 0px 1px 3px 1px rgba(60, 64, 67, 0.15);\n",
              "      fill: #174EA6;\n",
              "    }\n",
              "\n",
              "    [theme=dark] .colab-df-convert {\n",
              "      background-color: #3B4455;\n",
              "      fill: #D2E3FC;\n",
              "    }\n",
              "\n",
              "    [theme=dark] .colab-df-convert:hover {\n",
              "      background-color: #434B5C;\n",
              "      box-shadow: 0px 1px 3px 1px rgba(0, 0, 0, 0.15);\n",
              "      filter: drop-shadow(0px 1px 2px rgba(0, 0, 0, 0.3));\n",
              "      fill: #FFFFFF;\n",
              "    }\n",
              "  </style>\n",
              "\n",
              "      <script>\n",
              "        const buttonEl =\n",
              "          document.querySelector('#df-f0264839-894b-4504-a26b-5dd47d54a0fa button.colab-df-convert');\n",
              "        buttonEl.style.display =\n",
              "          google.colab.kernel.accessAllowed ? 'block' : 'none';\n",
              "\n",
              "        async function convertToInteractive(key) {\n",
              "          const element = document.querySelector('#df-f0264839-894b-4504-a26b-5dd47d54a0fa');\n",
              "          const dataTable =\n",
              "            await google.colab.kernel.invokeFunction('convertToInteractive',\n",
              "                                                     [key], {});\n",
              "          if (!dataTable) return;\n",
              "\n",
              "          const docLinkHtml = 'Like what you see? Visit the ' +\n",
              "            '<a target=\"_blank\" href=https://colab.research.google.com/notebooks/data_table.ipynb>data table notebook</a>'\n",
              "            + ' to learn more about interactive tables.';\n",
              "          element.innerHTML = '';\n",
              "          dataTable['output_type'] = 'display_data';\n",
              "          await google.colab.output.renderOutput(dataTable, element);\n",
              "          const docLink = document.createElement('div');\n",
              "          docLink.innerHTML = docLinkHtml;\n",
              "          element.appendChild(docLink);\n",
              "        }\n",
              "      </script>\n",
              "    </div>\n",
              "  </div>\n",
              "  "
            ]
          },
          "metadata": {},
          "execution_count": 21
        }
      ]
    },
    {
      "cell_type": "code",
      "source": [
        "X = df[['f1', 'f2', 'f3']]"
      ],
      "metadata": {
        "id": "p65OkzbZ290g"
      },
      "execution_count": null,
      "outputs": []
    },
    {
      "cell_type": "code",
      "source": [
        "y = df['label']"
      ],
      "metadata": {
        "id": "NNjBldit3PtR"
      },
      "execution_count": null,
      "outputs": []
    },
    {
      "cell_type": "code",
      "source": [
        "from sklearn.model_selection import train_test_split"
      ],
      "metadata": {
        "id": "LB-8Vlnj3R0m"
      },
      "execution_count": null,
      "outputs": []
    },
    {
      "cell_type": "markdown",
      "source": [
        "La fonction `train_test_split` est utilisée pour diviser un jeu de données en deux parties :\n",
        "\n",
        "1.   **Un ensemble d'entraînement (training set)** : Utilisé pour entraîner le modèle de Machine Learning.\n",
        "2.   **Un ensemble de test (test set)** : Utilisé pour évaluer les performances du modèle après son entraînement, sur des données qu'il n'a jamais vues auparavant.\n",
        "\n",
        "Diviser les données est crucial pour éviter l'**overfitting** qui se produit lorsque le modèle apprend trop bien les données d'entraînement et ne parvient pas à généraliser aux nouvelles données. En testant le modèle sur un ensemble de données distinct, on obtient une meilleure estimation de ses performances réelles."
      ],
      "metadata": {
        "id": "K78EaPFmAV7k"
      }
    },
    {
      "cell_type": "code",
      "source": [
        "X_train, X_test, y__train, y_test = train_test_split\n",
        "        X, y, test_size=0.3, random_state=101)"
      ],
      "metadata": {
        "id": "woSRmqBX3fw4"
      },
      "execution_count": null,
      "outputs": []
    },
    {
      "cell_type": "markdown",
      "source": [
        "1.  `X, y` sont les données d'entrée de la fonction.\n",
        "  *  `X` représente généralement vos **caractéristiques** (les variables d'entrée utilisées pour faire des prédictions).\n",
        "  *  `y` représente votre **variable cible** ou **étiquettes** (ce que vous essayez de prédire).\n",
        "2.  `test_size=0.3` spécifie la proportion de données qui doit être allouée à l'ensemble de test. Dans ce cas, 30 % des données seront utilisées pour les tests et les 70 % restants seront utilisés pour l'entraînement.\n",
        "3.  `random_state=101` garantit que les données sont divisées de la même manière chaque fois que le code est exécuté. Ceci est important pour la reproductibilité, afin d'obtenir des résultats cohérents lors de l'expérimentation avec votre modèle. Si vous ne définissez pas de `random_state`, la division sera différente à chaque fois, ce qui peut rendre difficile la comparaison des performances de votre modèle entre différentes exécutions."
      ],
      "metadata": {
        "id": "dr1KiQxlBynF"
      }
    },
    {
      "cell_type": "markdown",
      "source": [
        "Nous avons divisé nos données en `X_train`, `X_test`, `y_train` et `y_test`. Comment pouvons-nous déterminer le nombre d'observations et de caractéristiques présentes dans l'ensemble d'entraînement `X_train` ?"
      ],
      "metadata": {
        "id": "2y92VOE4Jot9"
      }
    },
    {
      "cell_type": "code",
      "source": [],
      "metadata": {
        "colab": {
          "base_uri": "https://localhost:8080/"
        },
        "id": "JX6o6ON74VVX",
        "outputId": "13e6b7e4-3428-47bf-af94-c5aed431f2a1"
      },
      "execution_count": null,
      "outputs": [
        {
          "output_type": "execute_result",
          "data": {
            "text/plain": [
              "(35, 3)"
            ]
          },
          "metadata": {},
          "execution_count": 28
        }
      ]
    },
    {
      "cell_type": "markdown",
      "source": [
        "Comment pouvons-nous déterminer le nombre d'observations et de caractéristiques présentes dans l'ensemble de test `X_test` ?"
      ],
      "metadata": {
        "id": "_GKm4lPzJ89g"
      }
    },
    {
      "cell_type": "code",
      "source": [],
      "metadata": {
        "colab": {
          "base_uri": "https://localhost:8080/"
        },
        "id": "crUExaTT4oAr",
        "outputId": "c6c35823-b839-4428-9bd9-960963f4efeb"
      },
      "execution_count": null,
      "outputs": [
        {
          "output_type": "execute_result",
          "data": {
            "text/plain": [
              "(15, 3)"
            ]
          },
          "metadata": {},
          "execution_count": 31
        }
      ]
    }
  ]
}