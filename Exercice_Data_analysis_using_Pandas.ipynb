{
  "nbformat": 4,
  "nbformat_minor": 0,
  "metadata": {
    "colab": {
      "provenance": [],
      "include_colab_link": true
    },
    "kernelspec": {
      "name": "python3",
      "display_name": "Python 3"
    }
  },
  "cells": [
    {
      "cell_type": "markdown",
      "metadata": {
        "id": "view-in-github",
        "colab_type": "text"
      },
      "source": [
        "<a href=\"https://colab.research.google.com/github/neohack22/Datascience-Seminaire-Exercices/blob/main/Exercice_Data_analysis_using_Pandas.ipynb\" target=\"_parent\"><img src=\"https://colab.research.google.com/assets/colab-badge.svg\" alt=\"Open In Colab\"/></a>"
      ]
    },
    {
      "cell_type": "markdown",
      "source": [
        "Ce code effectue diverses tâches d'analyse et de visualisation de données à l'aide de Pandas, vous aidant à explorer et à comprendre les données du fichier 'db.csv'."
      ],
      "metadata": {
        "id": "uG_RW2GGOzKn"
      }
    },
    {
      "cell_type": "markdown",
      "source": [
        "# Comment importer la librairie pandas et lire un fichier CSV db dans un DataFrame pandas ?"
      ],
      "metadata": {
        "id": "tqcoyxsmPv1I"
      }
    },
    {
      "metadata": {
        "id": "DT8GQSw1Df8G"
      },
      "cell_type": "code",
      "source": [],
      "execution_count": null,
      "outputs": []
    },
    {
      "cell_type": "markdown",
      "source": [
        "# Renvoyer les dimensions du DataFrame 'df', qui indiquent le nombre de lignes et de colonnes du DataFrame :"
      ],
      "metadata": {
        "id": "TbWepy8QQIdI"
      }
    },
    {
      "metadata": {
        "id": "lJPNkdGNG3na",
        "colab": {
          "base_uri": "https://localhost:8080/"
        },
        "outputId": "e63bea5b-236a-4ac3-cb9d-d14e783cca87"
      },
      "cell_type": "code",
      "source": [],
      "execution_count": null,
      "outputs": [
        {
          "output_type": "execute_result",
          "data": {
            "text/plain": [
              "(20, 5)"
            ]
          },
          "metadata": {},
          "execution_count": 24
        }
      ]
    },
    {
      "cell_type": "markdown",
      "source": [
        "# Renvoyer les noms de colonnes (en-tête) du DataFrame 'df' :"
      ],
      "metadata": {
        "id": "x9PHqRWaQSCQ"
      }
    },
    {
      "metadata": {
        "id": "UDRh1y0qG7HH",
        "colab": {
          "base_uri": "https://localhost:8080/"
        },
        "outputId": "336a4c57-97d3-4eca-eef9-a5291ddda36c"
      },
      "cell_type": "code",
      "source": [
        "df.columns"
      ],
      "execution_count": null,
      "outputs": [
        {
          "output_type": "execute_result",
          "data": {
            "text/plain": [
              "Index(['Occupation', 'Category', 'All_weekly', 'M_weekly', 'F_weekly'], dtype='object')"
            ]
          },
          "metadata": {},
          "execution_count": 25
        }
      ]
    },
    {
      "cell_type": "markdown",
      "source": [
        "`.columns` est une commande spéciale dans Pandas qui est utilisée pour accéder aux noms des colonnes."
      ],
      "metadata": {
        "id": "GuSrxtk9RWHp"
      }
    },
    {
      "cell_type": "markdown",
      "source": [
        "# Récupérer la colonne 'Category' du DataFrame, compter le nombre d'occurrences de chaque valeur unique, et tracer un graphique à barres horizontales pour visualiser la distribution des catégories :"
      ],
      "metadata": {
        "id": "u_JaAYaXQuoJ"
      }
    },
    {
      "cell_type": "code",
      "source": [
        "df['Category'].value_counts().plot.barh()"
      ],
      "metadata": {
        "colab": {
          "base_uri": "https://localhost:8080/",
          "height": 447
        },
        "id": "oyxjLiUmNLbH",
        "outputId": "5a6ca24d-6834-43d8-d96b-5176d28aded6"
      },
      "execution_count": null,
      "outputs": [
        {
          "output_type": "execute_result",
          "data": {
            "text/plain": [
              "<Axes: ylabel='Category'>"
            ]
          },
          "metadata": {},
          "execution_count": 26
        },
        {
          "output_type": "display_data",
          "data": {
            "text/plain": [
              "<Figure size 640x480 with 1 Axes>"
            ],
            "image/png": "[encoded data removed]"
          },
          "metadata": {}
        }
      ]
    },
    {
      "cell_type": "markdown",
      "source": [
        "*  `.value_counts()` calcule combien de fois chaque valeur unique apparaît dans la colonne 'Category'. Elle crée une nouvelle Series où les valeurs uniques de 'Category' sont l'index et leurs nombres d'occurrences correspondants sont les valeurs.\n",
        "*  .plot est une méthode fournie par Pandas pour créer des graphiques.\n",
        "*  .barh() crée spécifiquement un graphique à barres horizontales.\n",
        "Il utilise les données du résultat de value_counts() pour générer les barres: chaque valeur unique de 'Category' aura sa propre barre, et la longueur de la barre représentera sa fréquence (combien de fois elle apparaît)."
      ],
      "metadata": {
        "id": "fRdol_PnRvak"
      }
    },
    {
      "cell_type": "markdown",
      "source": [
        "# Générer des statistiques descriptives pour les colonnes numériques du DataFrame 'df', telles que le nombre d'observations, la moyenne, l'écart-type, les valeurs minimale et maximale :"
      ],
      "metadata": {
        "id": "OLXQAEEIRraj"
      }
    },
    {
      "metadata": {
        "id": "LJlOlICqJciw",
        "colab": {
          "base_uri": "https://localhost:8080/",
          "height": 300
        },
        "outputId": "1aa2ef21-39a6-4b2a-de3d-0c6745294d08"
      },
      "cell_type": "code",
      "source": [
        "df.describe()"
      ],
      "execution_count": null,
      "outputs": [
        {
          "output_type": "execute_result",
          "data": {
            "text/plain": [
              "       All_weekly    M_weekly    F_weekly\n",
              "count   18.000000   18.000000   18.000000\n",
              "mean   157.777778   90.000000   66.666667\n",
              "std     34.223411   29.305691   17.489493\n",
              "min    100.000000   50.000000   30.000000\n",
              "25%    132.500000   70.000000   60.000000\n",
              "50%    155.000000   85.000000   65.000000\n",
              "75%    180.000000  107.500000   70.000000\n",
              "max    220.000000  150.000000  120.000000"
            ],
            "text/html": [
              "\n",
              "  <div id=\"df-73dcbc63-e6d9-4901-a6ca-b2ad87719605\" class=\"colab-df-container\">\n",
              "    <div>\n",
              "<style scoped>\n",
              "    .dataframe tbody tr th:only-of-type {\n",
              "        vertical-align: middle;\n",
              "    }\n",
              "\n",
              "    .dataframe tbody tr th {\n",
              "        vertical-align: top;\n",
              "    }\n",
              "\n",
              "    .dataframe thead th {\n",
              "        text-align: right;\n",
              "    }\n",
              "</style>\n",
              "<table border=\"1\" class=\"dataframe\">\n",
              "  <thead>\n",
              "    <tr style=\"text-align: right;\">\n",
              "      <th></th>\n",
              "      <th>All_weekly</th>\n",
              "      <th>M_weekly</th>\n",
              "      <th>F_weekly</th>\n",
              "    </tr>\n",
              "  </thead>\n",
              "  <tbody>\n",
              "    <tr>\n",
              "      <th>count</th>\n",
              "      <td>18.000000</td>\n",
              "      <td>18.000000</td>\n",
              "      <td>18.000000</td>\n",
              "    </tr>\n",
              "    <tr>\n",
              "      <th>mean</th>\n",
              "      <td>157.777778</td>\n",
              "      <td>90.000000</td>\n",
              "      <td>66.666667</td>\n",
              "    </tr>\n",
              "    <tr>\n",
              "      <th>std</th>\n",
              "      <td>34.223411</td>\n",
              "      <td>29.305691</td>\n",
              "      <td>17.489493</td>\n",
              "    </tr>\n",
              "    <tr>\n",
              "      <th>min</th>\n",
              "      <td>100.000000</td>\n",
              "      <td>50.000000</td>\n",
              "      <td>30.000000</td>\n",
              "    </tr>\n",
              "    <tr>\n",
              "      <th>25%</th>\n",
              "      <td>132.500000</td>\n",
              "      <td>70.000000</td>\n",
              "      <td>60.000000</td>\n",
              "    </tr>\n",
              "    <tr>\n",
              "      <th>50%</th>\n",
              "      <td>155.000000</td>\n",
              "      <td>85.000000</td>\n",
              "      <td>65.000000</td>\n",
              "    </tr>\n",
              "    <tr>\n",
              "      <th>75%</th>\n",
              "      <td>180.000000</td>\n",
              "      <td>107.500000</td>\n",
              "      <td>70.000000</td>\n",
              "    </tr>\n",
              "    <tr>\n",
              "      <th>max</th>\n",
              "      <td>220.000000</td>\n",
              "      <td>150.000000</td>\n",
              "      <td>120.000000</td>\n",
              "    </tr>\n",
              "  </tbody>\n",
              "</table>\n",
              "</div>\n",
              "    <div class=\"colab-df-buttons\">\n",
              "\n",
              "  <div class=\"colab-df-container\">\n",
              "    <button class=\"colab-df-convert\" onclick=\"convertToInteractive('df-73dcbc63-e6d9-4901-a6ca-b2ad87719605')\"\n",
              "            title=\"Convert this dataframe to an interactive table.\"\n",
              "            style=\"display:none;\">\n",
              "\n",
              "  <svg xmlns=\"http://www.w3.org/2000/svg\" height=\"24px\" viewBox=\"0 -960 960 960\">\n",
              "    <path d=\"M120-120v-720h720v720H120Zm60-500h600v-160H180v160Zm220 220h160v-160H400v160Zm0 220h160v-160H400v160ZM180-400h160v-160H180v160Zm440 0h160v-160H620v160ZM180-180h160v-160H180v160Zm440 0h160v-160H620v160Z\"/>\n",
              "  </svg>\n",
              "    </button>\n",
              "\n",
              "  <style>\n",
              "    .colab-df-container {\n",
              "      display:flex;\n",
              "      gap: 12px;\n",
              "    }\n",
              "\n",
              "    .colab-df-convert {\n",
              "      background-color: #E8F0FE;\n",
              "      border: none;\n",
              "      border-radius: 50%;\n",
              "      cursor: pointer;\n",
              "      display: none;\n",
              "      fill: #1967D2;\n",
              "      height: 32px;\n",
              "      padding: 0 0 0 0;\n",
              "      width: 32px;\n",
              "    }\n",
              "\n",
              "    .colab-df-convert:hover {\n",
              "      background-color: #E2EBFA;\n",
              "      box-shadow: 0px 1px 2px rgba(60, 64, 67, 0.3), 0px 1px 3px 1px rgba(60, 64, 67, 0.15);\n",
              "      fill: #174EA6;\n",
              "    }\n",
              "\n",
              "    .colab-df-buttons div {\n",
              "      margin-bottom: 4px;\n",
              "    }\n",
              "\n",
              "    [theme=dark] .colab-df-convert {\n",
              "      background-color: #3B4455;\n",
              "      fill: #D2E3FC;\n",
              "    }\n",
              "\n",
              "    [theme=dark] .colab-df-convert:hover {\n",
              "      background-color: #434B5C;\n",
              "      box-shadow: 0px 1px 3px 1px rgba(0, 0, 0, 0.15);\n",
              "      filter: drop-shadow(0px 1px 2px rgba(0, 0, 0, 0.3));\n",
              "      fill: #FFFFFF;\n",
              "    }\n",
              "  </style>\n",
              "\n",
              "    <script>\n",
              "      const buttonEl =\n",
              "        document.querySelector('#df-73dcbc63-e6d9-4901-a6ca-b2ad87719605 button.colab-df-convert');\n",
              "      buttonEl.style.display =\n",
              "        google.colab.kernel.accessAllowed ? 'block' : 'none';\n",
              "\n",
              "      async function convertToInteractive(key) {\n",
              "        const element = document.querySelector('#df-73dcbc63-e6d9-4901-a6ca-b2ad87719605');\n",
              "        const dataTable =\n",
              "          await google.colab.kernel.invokeFunction('convertToInteractive',\n",
              "                                                    [key], {});\n",
              "        if (!dataTable) return;\n",
              "\n",
              "        const docLinkHtml = 'Like what you see? Visit the ' +\n",
              "          '<a target=\"_blank\" href=https://colab.research.google.com/notebooks/data_table.ipynb>data table notebook</a>'\n",
              "          + ' to learn more about interactive tables.';\n",
              "        element.innerHTML = '';\n",
              "        dataTable['output_type'] = 'display_data';\n",
              "        await google.colab.output.renderOutput(dataTable, element);\n",
              "        const docLink = document.createElement('div');\n",
              "        docLink.innerHTML = docLinkHtml;\n",
              "        element.appendChild(docLink);\n",
              "      }\n",
              "    </script>\n",
              "  </div>\n",
              "\n",
              "\n",
              "<div id=\"df-dc797ae1-7527-47d5-8400-f9e4aa9b9ea9\">\n",
              "  <button class=\"colab-df-quickchart\" onclick=\"quickchart('df-dc797ae1-7527-47d5-8400-f9e4aa9b9ea9')\"\n",
              "            title=\"Suggest charts\"\n",
              "            style=\"display:none;\">\n",
              "\n",
              "<svg xmlns=\"http://www.w3.org/2000/svg\" height=\"24px\"viewBox=\"0 0 24 24\"\n",
              "     width=\"24px\">\n",
              "    <g>\n",
              "        <path d=\"M19 3H5c-1.1 0-2 .9-2 2v14c0 1.1.9 2 2 2h14c1.1 0 2-.9 2-2V5c0-1.1-.9-2-2-2zM9 17H7v-7h2v7zm4 0h-2V7h2v10zm4 0h-2v-4h2v4z\"/>\n",
              "    </g>\n",
              "</svg>\n",
              "  </button>\n",
              "\n",
              "<style>\n",
              "  .colab-df-quickchart {\n",
              "      --bg-color: #E8F0FE;\n",
              "      --fill-color: #1967D2;\n",
              "      --hover-bg-color: #E2EBFA;\n",
              "      --hover-fill-color: #174EA6;\n",
              "      --disabled-fill-color: #AAA;\n",
              "      --disabled-bg-color: #DDD;\n",
              "  }\n",
              "\n",
              "  [theme=dark] .colab-df-quickchart {\n",
              "      --bg-color: #3B4455;\n",
              "      --fill-color: #D2E3FC;\n",
              "      --hover-bg-color: #434B5C;\n",
              "      --hover-fill-color: #FFFFFF;\n",
              "      --disabled-bg-color: #3B4455;\n",
              "      --disabled-fill-color: #666;\n",
              "  }\n",
              "\n",
              "  .colab-df-quickchart {\n",
              "    background-color: var(--bg-color);\n",
              "    border: none;\n",
              "    border-radius: 50%;\n",
              "    cursor: pointer;\n",
              "    display: none;\n",
              "    fill: var(--fill-color);\n",
              "    height: 32px;\n",
              "    padding: 0;\n",
              "    width: 32px;\n",
              "  }\n",
              "\n",
              "  .colab-df-quickchart:hover {\n",
              "    background-color: var(--hover-bg-color);\n",
              "    box-shadow: 0 1px 2px rgba(60, 64, 67, 0.3), 0 1px 3px 1px rgba(60, 64, 67, 0.15);\n",
              "    fill: var(--button-hover-fill-color);\n",
              "  }\n",
              "\n",
              "  .colab-df-quickchart-complete:disabled,\n",
              "  .colab-df-quickchart-complete:disabled:hover {\n",
              "    background-color: var(--disabled-bg-color);\n",
              "    fill: var(--disabled-fill-color);\n",
              "    box-shadow: none;\n",
              "  }\n",
              "\n",
              "  .colab-df-spinner {\n",
              "    border: 2px solid var(--fill-color);\n",
              "    border-color: transparent;\n",
              "    border-bottom-color: var(--fill-color);\n",
              "    animation:\n",
              "      spin 1s steps(1) infinite;\n",
              "  }\n",
              "\n",
              "  @keyframes spin {\n",
              "    0% {\n",
              "      border-color: transparent;\n",
              "      border-bottom-color: var(--fill-color);\n",
              "      border-left-color: var(--fill-color);\n",
              "    }\n",
              "    20% {\n",
              "      border-color: transparent;\n",
              "      border-left-color: var(--fill-color);\n",
              "      border-top-color: var(--fill-color);\n",
              "    }\n",
              "    30% {\n",
              "      border-color: transparent;\n",
              "      border-left-color: var(--fill-color);\n",
              "      border-top-color: var(--fill-color);\n",
              "      border-right-color: var(--fill-color);\n",
              "    }\n",
              "    40% {\n",
              "      border-color: transparent;\n",
              "      border-right-color: var(--fill-color);\n",
              "      border-top-color: var(--fill-color);\n",
              "    }\n",
              "    60% {\n",
              "      border-color: transparent;\n",
              "      border-right-color: var(--fill-color);\n",
              "    }\n",
              "    80% {\n",
              "      border-color: transparent;\n",
              "      border-right-color: var(--fill-color);\n",
              "      border-bottom-color: var(--fill-color);\n",
              "    }\n",
              "    90% {\n",
              "      border-color: transparent;\n",
              "      border-bottom-color: var(--fill-color);\n",
              "    }\n",
              "  }\n",
              "</style>\n",
              "\n",
              "  <script>\n",
              "    async function quickchart(key) {\n",
              "      const quickchartButtonEl =\n",
              "        document.querySelector('#' + key + ' button');\n",
              "      quickchartButtonEl.disabled = true;  // To prevent multiple clicks.\n",
              "      quickchartButtonEl.classList.add('colab-df-spinner');\n",
              "      try {\n",
              "        const charts = await google.colab.kernel.invokeFunction(\n",
              "            'suggestCharts', [key], {});\n",
              "      } catch (error) {\n",
              "        console.error('Error during call to suggestCharts:', error);\n",
              "      }\n",
              "      quickchartButtonEl.classList.remove('colab-df-spinner');\n",
              "      quickchartButtonEl.classList.add('colab-df-quickchart-complete');\n",
              "    }\n",
              "    (() => {\n",
              "      let quickchartButtonEl =\n",
              "        document.querySelector('#df-dc797ae1-7527-47d5-8400-f9e4aa9b9ea9 button');\n",
              "      quickchartButtonEl.style.display =\n",
              "        google.colab.kernel.accessAllowed ? 'block' : 'none';\n",
              "    })();\n",
              "  </script>\n",
              "</div>\n",
              "\n",
              "    </div>\n",
              "  </div>\n"
            ],
            "application/vnd.google.colaboratory.intrinsic+json": {
              "type": "dataframe",
              "summary": "{\n  \"name\": \"df\",\n  \"rows\": 8,\n  \"fields\": [\n    {\n      \"column\": \"All_weekly\",\n      \"properties\": {\n        \"dtype\": \"number\",\n        \"std\": 70.09609872954688,\n        \"min\": 18.0,\n        \"max\": 220.0,\n        \"num_unique_values\": 8,\n        \"samples\": [\n          157.77777777777777,\n          155.0,\n          18.0\n        ],\n        \"semantic_type\": \"\",\n        \"description\": \"\"\n      }\n    },\n    {\n      \"column\": \"M_weekly\",\n      \"properties\": {\n        \"dtype\": \"number\",\n        \"std\": 43.08333311915781,\n        \"min\": 18.0,\n        \"max\": 150.0,\n        \"num_unique_values\": 8,\n        \"samples\": [\n          90.0,\n          85.0,\n          18.0\n        ],\n        \"semantic_type\": \"\",\n        \"description\": \"\"\n      }\n    },\n    {\n      \"column\": \"F_weekly\",\n      \"properties\": {\n        \"dtype\": \"number\",\n        \"std\": 34.02886998294463,\n        \"min\": 17.48949264390412,\n        \"max\": 120.0,\n        \"num_unique_values\": 8,\n        \"samples\": [\n          66.66666666666667,\n          65.0,\n          18.0\n        ],\n        \"semantic_type\": \"\",\n        \"description\": \"\"\n      }\n    }\n  ]\n}"
            }
          },
          "metadata": {},
          "execution_count": 27
        }
      ]
    },
    {
      "cell_type": "markdown",
      "source": [
        "La méthode `.describe()` est un outil pratique dans Pandas qui fournit un aperçu statistique des données numériques de votre DataFrame.\n",
        "\n",
        "Imaginez que vous ayez un tableau de données avec des informations comme l'âge, le salaire et les années d'expérience. `df.describe()` calculera et affichera rapidement des éléments tels que :\n",
        "\n",
        "*  **count** : Combien de points de données y a-t-il pour chaque colonne numérique.\n",
        "*  **mean** : La valeur moyenne de chaque colonne numérique.\n",
        "*  **std** : La dispersion des données (écart type).\n",
        "*  **min** : La plus petite valeur de chaque colonne numérique.\n",
        "*  **25%** : La valeur qui sépare les 25 % inférieurs des données du reste (également appelée premier quartile).\n",
        "*  **50%** : La valeur médiane des données (également appelée médiane ou deuxième quartile).\n",
        "*  **75%** : La valeur qui sépare les 75 % inférieurs des données du reste (également appelée troisième quartile).\n",
        "*  **max** : La plus grande valeur de chaque colonne numérique."
      ],
      "metadata": {
        "id": "_Fo1pNooSV6A"
      }
    },
    {
      "cell_type": "markdown",
      "source": [
        "# Convertir les colonnes 'All_weekly', 'M_weekly' et 'F_weekly' en valeurs numériques, en utilisant 'coerce' pour remplacer toutes les valeurs non numériques par NaN :"
      ],
      "metadata": {
        "id": "0T48V8GnSo0l"
      }
    },
    {
      "metadata": {
        "id": "kSr9D7lYKfBD"
      },
      "cell_type": "code",
      "source": [
        "df.All_weekly = pd.to_numeric(df.All_weekly, errors='coerce')\n",
        "df.M_weekly = pd.to_numeric(df.M_weekly, errors='coerce')\n",
        "df.F_weekly = pd.to_numeric(df.F_weekly, errors='coerce')"
      ],
      "execution_count": null,
      "outputs": []
    },
    {
      "cell_type": "markdown",
      "source": [
        "*  `pd.to_numeric()` effectue la conversion en un type de données numérique.\n",
        "*  `errors='coerce'` indique à la fonction comment gérer les erreurs pendant le processus de conversion. Dans ce cas, 'coerce' signifie que s'il y a des valeurs dans la colonne 'All_weekly' qui ne peuvent pas être converties en nombres (comme du texte ou des caractères spéciaux), elles seront remplacées par NaN (Not a Number - Pas un Nombre).\n",
        "Imaginez que vous ayez une colonne dans votre feuille de calcul qui est censée contenir uniquement des nombres, mais que quelqu'un a accidentellement saisi du texte dans quelques cellules. Ce code convertirait les nombres valides en valeurs numériques réelles et remplacerait les entrées de texte incorrectes par NaN, rendant la colonne adaptée aux opérations mathématiques."
      ],
      "metadata": {
        "id": "-41ZYk8LTI2N"
      }
    },
    {
      "metadata": {
        "id": "oCp-ox7yLq3a",
        "colab": {
          "base_uri": "https://localhost:8080/"
        },
        "outputId": "b891dbc2-703f-4efd-f976-05ec9e35eaa3"
      },
      "cell_type": "code",
      "source": [
        "df1 = df.dropna()  # Create a new DataFrame 'df1' by removing rows with NaN values\n",
        "df1.shape"
      ],
      "execution_count": null,
      "outputs": [
        {
          "output_type": "execute_result",
          "data": {
            "text/plain": [
              "(14, 5)"
            ]
          },
          "metadata": {},
          "execution_count": 29
        }
      ]
    },
    {
      "cell_type": "markdown",
      "source": [
        "`dropna()` est conçue pour supprimer les lignes qui contiennent des valeurs manquantes, qui sont représentées par `NaN` dans Pandas.\n",
        "Elle crée un nouveau DataFrame appelé `df1` et lui affecte le résultat de `df.dropna()`. Cela signifie que `df1` sera une copie de `df` mais sans les lignes contenant `NaN`."
      ],
      "metadata": {
        "id": "NuJF8k57TwcM"
      }
    },
    {
      "cell_type": "markdown",
      "source": [
        "# Créer un nouveau DataFrame 'df1' en supprimant les lignes avec des valeurs manquantes (NaN), puis afficher la forme du DataFrame nettoyé :"
      ],
      "metadata": {
        "id": "FStSPqQoWlkB"
      }
    },
    {
      "metadata": {
        "id": "qMF25AHdNN0j"
      },
      "cell_type": "code",
      "source": [
        "df1 = df1.sort_values(by=['F_weekly'], ascending=False)[:15]"
      ],
      "execution_count": null,
      "outputs": []
    },
    {
      "cell_type": "markdown",
      "source": [
        "*  `sort_values()` est une fonction Pandas utilisée pour trier un DataFrame.\n",
        "*  `by=['F_weekly']` spécifie que le tri doit être basé sur les valeurs de la colonne 'F_weekly'.\n",
        "*  `ascending=False` indique que le tri doit être effectué dans l'ordre décroissant, ce qui signifie que les valeurs les plus élevées de la colonne 'F_weekly' seront en haut."
      ],
      "metadata": {
        "id": "_P6logsXUR10"
      }
    },
    {
      "cell_type": "code",
      "source": [],
      "metadata": {
        "colab": {
          "base_uri": "https://localhost:8080/"
        },
        "id": "NsJ9DVcUPRPJ",
        "outputId": "60080b09-dc1a-464f-a5e1-e95449a457cb"
      },
      "execution_count": null,
      "outputs": [
        {
          "output_type": "execute_result",
          "data": {
            "text/plain": [
              "(14, 5)"
            ]
          },
          "metadata": {},
          "execution_count": 31
        }
      ]
    },
    {
      "cell_type": "markdown",
      "source": [
        "# Tracer un graphique à barres horizontales pour les colonnes 'F_weekly' et 'M_weekly' dans le DataFrame 'df1' :"
      ],
      "metadata": {
        "id": "j7Ul9oclXL46"
      }
    },
    {
      "metadata": {
        "id": "g4qqoE0-Ox9O",
        "colab": {
          "base_uri": "https://localhost:8080/",
          "height": 447
        },
        "outputId": "651ceb12-2914-4472-c5de-07c077309087"
      },
      "cell_type": "code",
      "source": [],
      "execution_count": null,
      "outputs": [
        {
          "output_type": "execute_result",
          "data": {
            "text/plain": [
              "<Axes: >"
            ]
          },
          "metadata": {},
          "execution_count": 32
        },
        {
          "output_type": "display_data",
          "data": {
            "text/plain": [
              "<Figure size 640x480 with 1 Axes>"
            ],
            "image/png": "[encoded data removed]"
          },
          "metadata": {}
        }
      ]
    },
    {
      "cell_type": "markdown",
      "source": [
        "# Définir la colonne 'Occupation' comme index du DataFrame 'df1' puis tracer un graphique à barres horizontales pour les colonnes 'F_weekly' et 'M_weekly' :"
      ],
      "metadata": {
        "id": "CieAKmsKXzAL"
      }
    },
    {
      "metadata": {
        "id": "JEISV5nKQG_4",
        "colab": {
          "base_uri": "https://localhost:8080/",
          "height": 447
        },
        "outputId": "81a9f763-5584-4b9d-e86e-fb5fa920a540"
      },
      "cell_type": "code",
      "source": [
        "df1=df1.set_index('Occupation')\n",
        "df1[[\"F_weekly\",\"M_weekly\"]].plot(kind=\"barh\")"
      ],
      "execution_count": null,
      "outputs": [
        {
          "output_type": "execute_result",
          "data": {
            "text/plain": [
              "<Axes: ylabel='Occupation'>"
            ]
          },
          "metadata": {},
          "execution_count": 33
        },
        {
          "output_type": "display_data",
          "data": {
            "text/plain": [
              "<Figure size 640x480 with 1 Axes>"
            ],
            "image/png": "[encoded data removed]"
          },
          "metadata": {}
        }
      ]
    },
    {
      "cell_type": "markdown",
      "source": [
        "La méthode `set_index()` est utilisée pour changer l'index (étiquettes de ligne) du DataFrame.\n",
        "Elle spécifie `'Occupation'` comme nouvel index. Cela signifie que les valeurs de la colonne « Occupation » seront désormais utilisées pour identifier chaque ligne du DataFrame au lieu de l'index numérique par défaut (0, 1, 2, etc.)."
      ],
      "metadata": {
        "id": "KDzkJIURVDGa"
      }
    },
    {
      "cell_type": "markdown",
      "source": [
        "# Calculer la colonne 'Delta' en calculant la différence en pourcentage entre 'M_weekly' et 'F_weekly'. Ensuite, il affiche les noms de colonnes de 'df1' :"
      ],
      "metadata": {
        "id": "JAwkQcSyYNmU"
      }
    },
    {
      "metadata": {
        "id": "9pLFmCOrRneL",
        "colab": {
          "base_uri": "https://localhost:8080/"
        },
        "outputId": "58560766-8e26-4abd-9377-93e29a0d4406"
      },
      "cell_type": "code",
      "source": [
        "df1['Delta']=(df1.M_weekly/df1.F_weekly-1)*100\n",
        "df1.columns"
      ],
      "execution_count": null,
      "outputs": [
        {
          "output_type": "execute_result",
          "data": {
            "text/plain": [
              "Index(['Category', 'All_weekly', 'M_weekly', 'F_weekly', 'Delta'], dtype='object')"
            ]
          },
          "metadata": {},
          "execution_count": 34
        }
      ]
    },
    {
      "cell_type": "markdown",
      "source": [
        "`df1['Delta']=(df1.M_weekly/df1.F_weekly-1)*100` calcule de combien `M_weekly` est supérieur ou inférieur à `F_weekly` et l'exprime en pourcentage. Si `M_weekly` est supérieur, le pourcentage sera positif ; s'il est inférieur, le pourcentage sera négatif."
      ],
      "metadata": {
        "id": "lzjR3P3BVrn9"
      }
    },
    {
      "cell_type": "markdown",
      "source": [
        "## Trier 'df1' en fonction de la colonne 'Delta' dans l'ordre croissant et sélectionner les 15 premières lignes. Enfin, il trace un graphique à barres horizontales pour la colonne 'Delta' :"
      ],
      "metadata": {
        "id": "40vXIMS0ZVov"
      }
    },
    {
      "metadata": {
        "id": "kTl2PzwDSpAU",
        "colab": {
          "base_uri": "https://localhost:8080/",
          "height": 447
        },
        "outputId": "e5129edb-51b7-4436-b3df-3a44d7475029"
      },
      "cell_type": "code",
      "source": [
        "df1=df1.sort_values(by=['Delta'],ascending=True)[:15]\n",
        "df1.plot.barh(y='Delta')"
      ],
      "execution_count": null,
      "outputs": [
        {
          "output_type": "execute_result",
          "data": {
            "text/plain": [
              "<Axes: ylabel='Occupation'>"
            ]
          },
          "metadata": {},
          "execution_count": 35
        },
        {
          "output_type": "display_data",
          "data": {
            "text/plain": [
              "<Figure size 640x480 with 1 Axes>"
            ],
            "image/png": "[encoded data removed]"
          },
          "metadata": {}
        }
      ]
    },
    {
      "cell_type": "markdown",
      "source": [
        "*  `by=['Delta']` spécifie que le tri doit être effectué en fonction de la colonne `'Delta'`.\n",
        "*  `ascending=True` signifie que les données seront triées dans l'ordre croissant, de la plus petite valeur `'Delta'` à la plus grande."
      ],
      "metadata": {
        "id": "vaqOpnkeW4zD"
      }
    }
  ]
}