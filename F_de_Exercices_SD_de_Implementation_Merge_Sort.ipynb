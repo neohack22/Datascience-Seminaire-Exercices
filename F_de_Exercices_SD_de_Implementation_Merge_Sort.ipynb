{
  "nbformat": 4,
  "nbformat_minor": 0,
  "metadata": {
    "kernelspec": {
      "display_name": "Python 3",
      "language": "python",
      "name": "python3"
    },
    "language_info": {
      "codemirror_mode": {
        "name": "ipython",
        "version": 3
      },
      "file_extension": ".py",
      "mimetype": "text/x-python",
      "name": "python",
      "nbconvert_exporter": "python",
      "pygments_lexer": "ipython3",
      "version": "3.6.2"
    },
    "colab": {
      "provenance": [],
      "include_colab_link": true
    }
  },
  "cells": [
    {
      "cell_type": "markdown",
      "metadata": {
        "id": "view-in-github",
        "colab_type": "text"
      },
      "source": [
        "<a href=\"https://colab.research.google.com/github/neohack22/Datascience-Seminaire-Exercices/blob/main/F_de_Exercices_SD_de_Implementation_Merge_Sort.ipynb\" target=\"_parent\"><img src=\"https://colab.research.google.com/assets/colab-badge.svg\" alt=\"Open In Colab\"/></a>"
      ]
    },
    {
      "cell_type": "markdown",
      "metadata": {
        "id": "3NFnNu8AZJZ3"
      },
      "source": [
        "# Implémentation du tri fusion\n",
        "\n",
        "Le tri fusion est un algorithme récursif qui divise continuellement une liste en deux. Si la liste est vide ou ne contient qu'un seul élément, elle est triée par définition (le cas de base). Si la liste contient plus d'un élément, nous la divisons et appelons récursivement un tri fusion sur les deux moitiés. Une fois les deux moitiés triées, l'opération fondamentale, appelée fusion, est effectuée. La fusion est le processus consistant à prendre deux petites listes triées et à les combiner en une seule nouvelle liste triée."
      ]
    },
    {
      "cell_type": "markdown",
      "metadata": {
        "id": "nuHBnQbVZJZ5"
      },
      "source": [
        "# Ressources pour la révision\n",
        "\n",
        "Consultez les ressources ci-dessous pour une révision du tri fusion !\n",
        "\n",
        "* [Wikipedia](https://en.wikipedia.org/wiki/Merge_sort)\n",
        "* [Visual Algo](http://visualgo.net/sorting.html)\n",
        "* [Sorting Algorithms Animcation with Pseudocode](http://www.sorting-algorithms.com/merge-sort)"
      ]
    },
    {
      "cell_type": "code",
      "metadata": {
        "id": "NI33HY6wZfmF"
      },
      "source": [
        "def merge_sort(arr):\n",
        "\n",
        "  if len(arr)>1:\n",
        "    mid = len(arr)//2\n",
        "    lefthalf = arr[:mid]\n",
        "    righthalf = arr[mid:]\n",
        "\n",
        "    merge_sort(lefthalf)\n",
        "    merge_sort(righthalf)\n",
        "\n",
        "    i=0\n",
        "    j=0\n",
        "    k=0\n",
        "    while i < len(lefthalf) and j < len(righthalf):\n",
        "      if lefthalf[i] < righthalf[j]:\n",
        "        arr[k]=lefthalf[i]\n",
        "        i=i+1\n",
        "      else:\n",
        "        arr[k]=righthalf[j]\n",
        "        j=j+1\n",
        "      k=k+1\n",
        "\n",
        "    while i < len(lefthalf):\n",
        "      arr[k]=lefthalf[i]\n",
        "      i=i+1\n",
        "      k=k+1\n",
        "\n",
        "    while j < len(righthalf):\n",
        "      arr[k]=righthalf[j]\n",
        "      j=j+1\n",
        "      k=k+1"
      ],
      "execution_count": null,
      "outputs": []
    },
    {
      "cell_type": "markdown",
      "source": [
        "`merge_sort` divise la liste en sous-listes de plus en plus petites jusqu'à ce qu'elles soient triviales à trier. Ensuite, elle fusionne ces sous-listes triées en une seule liste triée, en comparant et en plaçant les éléments un par un."
      ],
      "metadata": {
        "id": "QoysZv09xDTU"
      }
    },
    {
      "cell_type": "code",
      "metadata": {
        "id": "9-71zmZ8ZJZ7",
        "colab": {
          "base_uri": "https://localhost:8080/"
        },
        "outputId": "02fd234a-3ca0-464f-dbb4-2dd70ff90962"
      },
      "source": [
        "arr = [11,2,5,4,7,6,8,1,23]\n",
        "merge_sort(arr)\n",
        "arr"
      ],
      "execution_count": null,
      "outputs": [
        {
          "output_type": "execute_result",
          "data": {
            "text/plain": [
              "[1, 2, 4, 5, 6, 7, 8, 11, 23]"
            ]
          },
          "metadata": {
            "tags": []
          },
          "execution_count": 4
        }
      ]
    },
    {
      "cell_type": "markdown",
      "metadata": {
        "id": "YxFHHowKZJZ7"
      },
      "source": [
        "# Good Job!"
      ]
    },
    {
      "cell_type": "code",
      "metadata": {
        "id": "b9ZrJjo4bgDn"
      },
      "source": [
        "def merge_sort(arr):\n",
        "\n",
        "  if len(arr) > 1:\n",
        "\n",
        "    mid = len(arr)//2\n",
        "    lefthalf = arr[:mid]\n",
        "    righthalf = arr[mid:]\n",
        "\n",
        "    merge_sort(lefthalf)\n",
        "    merge_sort(righthalf)\n",
        "\n",
        "    i=0 # index tracker for the left half\n",
        "    j=0\n",
        "    k=0\n",
        "\n",
        "    while i < len(lefthalf) and j <len(righthalf):\n",
        "\n",
        "      if lefthalf[i] < righthalf[j]:\n",
        "        arr[k] = lefthalf[i]\n",
        "\n",
        "        i += 1\n",
        "\n",
        "      else:\n",
        "        arr[k] = righthalf[j]\n",
        "        j += 1\n",
        "\n",
        "      k +=1\n",
        "\n",
        "    while i < len(lefthalf):\n",
        "      arr[k] = lefthalf[i]\n",
        "      i +=1\n",
        "      k += 1\n",
        "\n",
        "    while j < len(righthalf):\n",
        "      arr[k] = righthalf[j]\n",
        "      j += 1\n",
        "      k += 1\n",
        "\n",
        "  print ('Merging ', arr)"
      ],
      "execution_count": null,
      "outputs": []
    },
    {
      "cell_type": "markdown",
      "source": [
        "Quelle est la principale différence entre les deux fonctions merge_sort définies dans le code ?"
      ],
      "metadata": {
        "id": "EvEqtrNcxnxY"
      }
    },
    {
      "cell_type": "markdown",
      "source": [
        "Si vous deviez utiliser l'une de ces fonctions merge_sort pour déboguer votre code, laquelle choisiriez-vous et pourquoi ?"
      ],
      "metadata": {
        "id": "pQ6vGK4Cy5zj"
      }
    },
    {
      "cell_type": "code",
      "metadata": {
        "colab": {
          "base_uri": "https://localhost:8080/"
        },
        "id": "HrmaBvs9eCS8",
        "outputId": "c4f024cd-ece2-4458-9105-8c45688763a2"
      },
      "source": [
        "arr = [11,2,4,5,56,2,12,23]\n",
        "merge_sort(arr)\n",
        "arr"
      ],
      "execution_count": null,
      "outputs": [
        {
          "output_type": "stream",
          "text": [
            "Merging  [11]\n",
            "Merging  [2]\n",
            "Merging  [2, 11]\n",
            "Merging  [4]\n",
            "Merging  [5]\n",
            "Merging  [4, 5]\n",
            "Merging  [2, 4, 5, 11]\n",
            "Merging  [56]\n",
            "Merging  [2]\n",
            "Merging  [2, 56]\n",
            "Merging  [12]\n",
            "Merging  [23]\n",
            "Merging  [12, 23]\n",
            "Merging  [2, 12, 23, 56]\n",
            "Merging  [2, 2, 4, 5, 11, 12, 23, 56]\n"
          ],
          "name": "stdout"
        },
        {
          "output_type": "execute_result",
          "data": {
            "text/plain": [
              "[2, 2, 4, 5, 11, 12, 23, 56]"
            ]
          },
          "metadata": {
            "tags": []
          },
          "execution_count": 13
        }
      ]
    }
  ]
}